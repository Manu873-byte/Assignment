{
 "cells": [
  {
   "cell_type": "code",
   "execution_count": 1,
   "id": "9528b427-a29c-43d3-8bfc-ce8218a3e953",
   "metadata": {},
   "outputs": [],
   "source": [
    "# Answer number 1:"
   ]
  },
  {
   "cell_type": "code",
   "execution_count": 2,
   "id": "cce8d412-45a8-4d98-bbc6-28c739c429d1",
   "metadata": {},
   "outputs": [
    {
     "name": "stdout",
     "output_type": "stream",
     "text": [
      "0     4\n",
      "1     8\n",
      "2    15\n",
      "3    16\n",
      "4    23\n",
      "5    42\n",
      "dtype: int64\n"
     ]
    }
   ],
   "source": [
    "import pandas as pd\n",
    "data = [4, 8, 15, 16, 23, 42]\n",
    "series = pd.Series(data)\n",
    "print(series)"
   ]
  },
  {
   "cell_type": "code",
   "execution_count": 3,
   "id": "eedaaca9-0973-41b0-8ac1-de0de5f25782",
   "metadata": {},
   "outputs": [],
   "source": [
    "# Answer number 2:"
   ]
  },
  {
   "cell_type": "code",
   "execution_count": 5,
   "id": "fdf42bab-8fd8-4ec7-a490-0a82ad66144e",
   "metadata": {},
   "outputs": [
    {
     "name": "stdout",
     "output_type": "stream",
     "text": [
      "0     2\n",
      "1     9\n",
      "2     8\n",
      "3     4\n",
      "4     5\n",
      "5     6\n",
      "6    12\n",
      "7    23\n",
      "8    45\n",
      "9     7\n",
      "dtype: int64\n"
     ]
    }
   ],
   "source": [
    "import pandas as pd\n",
    "data = [2,9,8,4,5,6,12,23,45,7]\n",
    "series = pd.Series(data)\n",
    "print(series)"
   ]
  },
  {
   "cell_type": "code",
   "execution_count": 13,
   "id": "f6038e9b-d5f1-4229-9fcf-3c80a6cc5355",
   "metadata": {},
   "outputs": [],
   "source": [
    "# Answer number 3:-"
   ]
  },
  {
   "cell_type": "code",
   "execution_count": 10,
   "id": "0103a51d-7d03-4dc4-ae4b-26f084d9f63e",
   "metadata": {},
   "outputs": [
    {
     "name": "stdout",
     "output_type": "stream",
     "text": [
      "     Name  Age  Gender\n",
      "0   Alice   25  Female\n",
      "1     Bob   30    Male\n",
      "2  Claire   27  Female\n"
     ]
    }
   ],
   "source": [
    "import pandas as pd\n",
    "data = {\n",
    "    'Name': ['Alice', 'Bob', 'Claire'],\n",
    "    'Age': [25, 30, 27],\n",
    "    'Gender': ['Female', 'Male', 'Female']\n",
    "}\n",
    "       \n",
    "df = pd.DataFrame(data)\n",
    "print(df)"
   ]
  },
  {
   "cell_type": "code",
   "execution_count": 14,
   "id": "bc3b3419-873a-4758-b3cf-8813c4e814d2",
   "metadata": {},
   "outputs": [],
   "source": [
    "# Answer number 4:-"
   ]
  },
  {
   "cell_type": "code",
   "execution_count": 11,
   "id": "33a1f1b3-5597-4ac7-9f64-6e983b66dc25",
   "metadata": {},
   "outputs": [
    {
     "name": "stdout",
     "output_type": "stream",
     "text": [
      "0     4\n",
      "1     8\n",
      "2    15\n",
      "3    16\n",
      "4    23\n",
      "5    42\n",
      "dtype: int64\n"
     ]
    }
   ],
   "source": [
    "# Data Frame:- Data frame is like having multiple rows and columns or contains multiple series whereas series has only one column.\n",
    "# Example of series:\n",
    "\n",
    "import pandas as pd\n",
    "data = [4, 8, 15, 16, 23, 42]\n",
    "series = pd.Series(data)\n",
    "print(series)"
   ]
  },
  {
   "cell_type": "code",
   "execution_count": 12,
   "id": "6b8f3f8f-60e8-4de6-8789-da8be77e07a1",
   "metadata": {},
   "outputs": [
    {
     "name": "stdout",
     "output_type": "stream",
     "text": [
      "     Name  Age  Gender\n",
      "0   Alice   25  Female\n",
      "1     Bob   30    Male\n",
      "2  Claire   27  Female\n"
     ]
    }
   ],
   "source": [
    "# Example of DataFrame:\n",
    "import pandas as pd\n",
    "data = {\n",
    "    'Name': ['Alice', 'Bob', 'Claire'],\n",
    "    'Age': [25, 30, 27],\n",
    "    'Gender': ['Female', 'Male', 'Female']\n",
    "}\n",
    "       \n",
    "df = pd.DataFrame(data)\n",
    "print(df)"
   ]
  },
  {
   "cell_type": "code",
   "execution_count": 15,
   "id": "b51c9108-dc13-4a1f-9b05-62b411d2017e",
   "metadata": {},
   "outputs": [],
   "source": [
    "# Answer number 5:-"
   ]
  },
  {
   "cell_type": "code",
   "execution_count": null,
   "id": "4f92f7db-8a78-45eb-b58e-8236fd428332",
   "metadata": {},
   "outputs": [],
   "source": [
    "some common functions we can use to manipulate data in a Pandas DataFrame are:-\n",
    "1.head() and tail()\n",
    "2.apply()\n",
    "3.describe()\n",
    "4.info()\n",
    "5.drop()\n",
    "6.sort_values()\n",
    "7.fillna()\n",
    "8.groupby()\n",
    "9.merge()\n",
    "10.pivot_table()\n",
    "\n",
    "# Example of groupby:-\n",
    "when you want to calculate the average salary for each department:-\n",
    "           df.groupby('department')['salary'].mean()                                "
   ]
  },
  {
   "cell_type": "code",
   "execution_count": 16,
   "id": "65c13440-8747-4ba6-bef2-bae3d8d0f889",
   "metadata": {},
   "outputs": [],
   "source": [
    "# Answer number 6:-"
   ]
  },
  {
   "cell_type": "code",
   "execution_count": null,
   "id": "47017b88-9a01-45cb-be42-387ed40d9f31",
   "metadata": {},
   "outputs": [],
   "source": [
    "Both Series and DataFrame are mutable in nature means these can be modified and changedonce they are created\n",
    "and Panel was also mutable as it is no longer used in modern versions of Pandas."
   ]
  },
  {
   "cell_type": "code",
   "execution_count": 17,
   "id": "8091febe-da8b-46af-916b-0b6f5f7b82c4",
   "metadata": {},
   "outputs": [],
   "source": [
    "# Answer number 7:-"
   ]
  },
  {
   "cell_type": "code",
   "execution_count": 18,
   "id": "98c2f72a-156a-4746-95fb-dd5033c5b18a",
   "metadata": {},
   "outputs": [
    {
     "name": "stdout",
     "output_type": "stream",
     "text": [
      "     Name  Age  Gender\n",
      "0   Alice   25  Female\n",
      "1     Bob   30    Male\n",
      "2  Claire   27  Female\n"
     ]
    }
   ],
   "source": [
    "import pandas as pd\n",
    "data = {\n",
    "    'Name': ['Alice', 'Bob', 'Claire'],\n",
    "    'Age': [25, 30, 27],\n",
    "    'Gender': ['Female', 'Male', 'Female']\n",
    "}\n",
    "       \n",
    "df = pd.DataFrame(data)\n",
    "print(df)"
   ]
  },
  {
   "cell_type": "code",
   "execution_count": null,
   "id": "38f0683f-ba74-4663-b125-9dff73de450b",
   "metadata": {},
   "outputs": [],
   "source": []
  }
 ],
 "metadata": {
  "kernelspec": {
   "display_name": "Python 3 (ipykernel)",
   "language": "python",
   "name": "python3"
  },
  "language_info": {
   "codemirror_mode": {
    "name": "ipython",
    "version": 3
   },
   "file_extension": ".py",
   "mimetype": "text/x-python",
   "name": "python",
   "nbconvert_exporter": "python",
   "pygments_lexer": "ipython3",
   "version": "3.8.5"
  }
 },
 "nbformat": 4,
 "nbformat_minor": 5
}
