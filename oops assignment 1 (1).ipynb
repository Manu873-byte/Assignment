{
 "cells": [
  {
   "cell_type": "code",
   "execution_count": 1,
   "id": "6c1659d1-18d5-4715-b836-8f66fa2c9638",
   "metadata": {},
   "outputs": [],
   "source": [
    "# Answer number 1:-"
   ]
  },
  {
   "cell_type": "code",
   "execution_count": 3,
   "id": "f541eea4-2b1d-48d3-bd47-e08f725347dc",
   "metadata": {},
   "outputs": [
    {
     "name": "stdout",
     "output_type": "stream",
     "text": [
      " Tommy says woof\n",
      " Lucy says woof\n"
     ]
    }
   ],
   "source": [
    "Class:- A class is a blueprint for creating objects and it defines a set of attribute and method that objects\n",
    "created from the class will have.\n",
    "\n",
    "Object:- An object is an instance of a class.when we create an object, we are creating a specific example of the class. \n",
    "\n",
    "Example:-\n",
    "# Defining the class\n",
    "class Dog:\n",
    "    def __init__(self,name,breed):\n",
    "        self.name = name    # Attribute for the dog's name\n",
    "        self.breed = breed  # Attribute for the dog's breed \n",
    "    def bark(self):         # Method for the dog to bark\n",
    "        return f\" {self.name} says woof\"\n",
    "# Creating objects (instances) of the Dog class       \n",
    "dog1 = Dog('Tommy','Golden retriever')\n",
    "dog2 = Dog('Lucy', 'Bulldog')\n",
    "# Using methods from the objects\n",
    "print(dog1.bark())\n",
    "print(dog2.bark())"
   ]
  },
  {
   "cell_type": "code",
   "execution_count": 4,
   "id": "d074347d-bfa9-4641-842c-f22f563b3d74",
   "metadata": {},
   "outputs": [],
   "source": [
    "# Answer number 2:-"
   ]
  },
  {
   "cell_type": "code",
   "execution_count": null,
   "id": "747913c4-4de0-4b8f-81a0-3dc85a8c12d0",
   "metadata": {},
   "outputs": [],
   "source": [
    "Four pillars of OOPs are:-\n",
    "1.Polimorphism\n",
    "2.Abstraction\n",
    "3.Inheritance\n",
    "4.Encapsulation"
   ]
  },
  {
   "cell_type": "code",
   "execution_count": 5,
   "id": "c2b660b0-ee96-48d3-8e07-6daeae4d7984",
   "metadata": {},
   "outputs": [],
   "source": [
    "# Answer number 3:-"
   ]
  },
  {
   "cell_type": "code",
   "execution_count": 6,
   "id": "1d4671c9-14c2-4791-913e-e752c7e0bc83",
   "metadata": {},
   "outputs": [
    {
     "name": "stdout",
     "output_type": "stream",
     "text": [
      " My name is Manu and my age is 21\n",
      " My name is Kovid and my age is 28\n"
     ]
    }
   ],
   "source": [
    "__init__ method is used to give values to object's properties when the object is created.Everytime we create an\n",
    "object from the class,python calles __init__ function automatically.\n",
    "It allows us to customize object creation by passing parameters to the class constructor.\n",
    "\n",
    "# Example:-\n",
    "class Person:\n",
    "    def __init__(self,name,age): # __init__ method with parameters\n",
    "        self.name = name\n",
    "        self.age = age\n",
    "    def introduce(self):\n",
    "        return f\" My name is {self.name} and my age is {self.age}\"\n",
    "person1 = Person('Manu',21)\n",
    "person2 = Person('Kovid',28)\n",
    "print(person1.introduce())\n",
    "print(person2.introduce())"
   ]
  },
  {
   "cell_type": "code",
   "execution_count": 7,
   "id": "0d478b13-5611-4d70-9af5-76ea92347bef",
   "metadata": {},
   "outputs": [],
   "source": [
    "# Answer number 4:-"
   ]
  },
  {
   "cell_type": "code",
   "execution_count": null,
   "id": "62e4442f-a542-45de-b86b-8e539dc7a796",
   "metadata": {},
   "outputs": [],
   "source": [
    "self refers to the current object of the class and works as a pointer of the parameters.\n",
    "It is used to access the attributes and methods of the specific object we are working with."
   ]
  },
  {
   "cell_type": "code",
   "execution_count": 9,
   "id": "72762fd7-f282-4afc-9f93-99cb37a24f34",
   "metadata": {},
   "outputs": [],
   "source": [
    "# Answer number 5:-"
   ]
  },
  {
   "cell_type": "code",
   "execution_count": 13,
   "id": "97318341-f965-41eb-9080-e7a7123750bf",
   "metadata": {},
   "outputs": [
    {
     "name": "stdout",
     "output_type": "stream",
     "text": [
      "The Toyota has a seating capacity of 5\n"
     ]
    }
   ],
   "source": [
    "Inheritance:- Inheritance lets us reuse and extend code from a parent class to create more specific child classes.\n",
    "it has many types-\n",
    "    \n",
    "# Example of Inheritance:\n",
    "# parent class\n",
    "class vehicle:\n",
    "    def __init__(self,name_of_vehicle, max_speed,average_of_vehicle):\n",
    "        self.name_of_vehicle = name_of_vehicle\n",
    "        self.max_speed = max_speed\n",
    "        self.average_of_vehicle = average_of_vehicle\n",
    "# child class        \n",
    "class car(vehicle):\n",
    "    def seating_capacity(self,capacity):\n",
    "        return f\"The {self.name_of_vehiInheritance:- Inheritance lets us reuse and extend code from a parent class to create more specific child classes.cle} has a seating capacity of {capacity}\"\n",
    "my_car = car(\"Toyota\",60,16)\n",
    "print(my_car.seating_capacity(5))"
   ]
  },
  {
   "cell_type": "code",
   "execution_count": 14,
   "id": "522ad4f9-9175-479b-8192-a35945a64386",
   "metadata": {},
   "outputs": [
    {
     "name": "stdout",
     "output_type": "stream",
     "text": [
      "Toyota:This vehicle has a petrol engine and This vehicle has a sedan body\n"
     ]
    }
   ],
   "source": [
    "# Example of Multiple Inheritance:\n",
    "# Parent class 1\n",
    "class engine:\n",
    "    def engine_type(self):\n",
    "        return \"This vehicle has a petrol engine\"\n",
    "# Parent class 2\n",
    "class body:\n",
    "    def body_type(self):\n",
    "        return \"This vehicle has a sedan body\"\n",
    "# Child class\n",
    "class car(engine,body):\n",
    "    def car_details(self,name):\n",
    "        return f\"{name}:{self.engine_type()} and {self.body_type()}\"\n",
    "my_car = car()\n",
    "print(my_car.car_details(\"Toyota\"))\n",
    "   "
   ]
  },
  {
   "cell_type": "code",
   "execution_count": null,
   "id": "00c8dfaf-5b79-41df-938a-4f33b80fd38d",
   "metadata": {},
   "outputs": [],
   "source": []
  }
 ],
 "metadata": {
  "kernelspec": {
   "display_name": "Python 3 (ipykernel)",
   "language": "python",
   "name": "python3"
  },
  "language_info": {
   "codemirror_mode": {
    "name": "ipython",
    "version": 3
   },
   "file_extension": ".py",
   "mimetype": "text/x-python",
   "name": "python",
   "nbconvert_exporter": "python",
   "pygments_lexer": "ipython3",
   "version": "3.8.5"
  }
 },
 "nbformat": 4,
 "nbformat_minor": 5
}
