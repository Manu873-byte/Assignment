{
 "cells": [
  {
   "cell_type": "code",
   "execution_count": 6,
   "id": "53c9dbd3-1fce-439d-81fe-05ca96c4d7f5",
   "metadata": {},
   "outputs": [],
   "source": [
    "#Assignment answer number 1"
   ]
  },
  {
   "cell_type": "code",
   "execution_count": null,
   "id": "7c7b10fc-37cf-4924-9425-d35a4b2a7266",
   "metadata": {},
   "outputs": [],
   "source": [
    "There are two types of comments:\n",
    "1. Single-line comments:-To write a single-line comment, you use the # symbol.\n",
    "Anything written after # on the same line is considered a comment and is ignored by Python.\n",
    "\n",
    "Example:\n",
    "# This is a single-line comment\n",
    "x = 5  # You can also comment next to a line of code\n",
    "\n",
    "2. Multi-line comments:-For multi-line comments, you can use triple quotes (''' or \"\"\").\n",
    "\n",
    "Example:\n",
    "'''\n",
    "This is a multi-line comment\n",
    "You can write explanations or notes across multiple lines\n",
    "'''"
   ]
  },
  {
   "cell_type": "code",
   "execution_count": 7,
   "id": "30e32676-0710-45d8-accc-c856b652375e",
   "metadata": {},
   "outputs": [],
   "source": [
    "#Assignment answer number 2"
   ]
  },
  {
   "cell_type": "code",
   "execution_count": null,
   "id": "94d84e1a-cd9b-4404-aafb-418693649f96",
   "metadata": {},
   "outputs": [],
   "source": [
    "Variables:-variables in Python are like a container that holds data like,number,text or any data.\n",
    "    \n",
    "# How to Declare and Assign Values to Variables:-\n",
    "    In Python You simply create a variable by giving it a name and assigning a value to it using the = sign.\n",
    "   Example:\n",
    "x = 5  # This creates a variable named 'x' and stores the number 5 in it.\n",
    "\n",
    "# Variable Naming Rules (Simple):\n",
    "1.A variable name must start with a letter (like x, age) or an underscore (_).\n",
    "2.You can’t use numbers at the start of a variable name.\n",
    "3.Variable names are case-sensitive (so Age and age are different).\n",
    "\n",
    "    Example of an invalid variable name:\n",
    "1st_number = 5  # This is not allowed because the name starts with a number."
   ]
  },
  {
   "cell_type": "code",
   "execution_count": 8,
   "id": "2cfa7403-60f9-41a4-8697-a3099b433f6b",
   "metadata": {},
   "outputs": [],
   "source": [
    "#Assignment answer number 3"
   ]
  },
  {
   "cell_type": "code",
   "execution_count": 12,
   "id": "3f43de1a-0e5e-4334-9772-adf28830375f",
   "metadata": {},
   "outputs": [
    {
     "name": "stdout",
     "output_type": "stream",
     "text": [
      "10\n"
     ]
    }
   ],
   "source": [
    "# Use the int() function to convert an integer from string.\n",
    "s = \"10\" # string\n",
    "i = int(s) # convert string to integer\n",
    "print(i)"
   ]
  },
  {
   "cell_type": "code",
   "execution_count": 13,
   "id": "a7f47de2-4f12-4313-b9cd-f2af34dbabef",
   "metadata": {},
   "outputs": [],
   "source": [
    "#Assignment answer number 4"
   ]
  },
  {
   "cell_type": "code",
   "execution_count": null,
   "id": "8b45c92a-fa00-43b6-8160-8a5598327277",
   "metadata": {},
   "outputs": [],
   "source": [
    "Writing and executing a Python script from the command line is a straightforward process.\n",
    "1. Create a Python Script:-First, you need to write your Python code in a text file.\n",
    "Example: # hello.py\n",
    "print(\"Hello, World!\") \n",
    "then Save the file with a .py extension (e.g., hello.py).\n",
    "\n",
    "2. Open the Command Line:-On Windows: Press Win + R, type cmd, and press Enter.\n",
    "3. Navigate to the Script's Directory:-Use the cd (change directory) command to navigate to the folder where your Python script is saved.\n",
    "Example: cd Desktop\\Scripts\n",
    "\n",
    "4. Execute the Python Script:-Once you're in the correct directory, you can run the Python script using the python command.\n",
    "Example:python hello.py\n",
    "5.View the Output:-Hello, World!"
   ]
  },
  {
   "cell_type": "code",
   "execution_count": 14,
   "id": "fd2f5e0d-b5b2-4525-85bd-49ba52c1dbc2",
   "metadata": {},
   "outputs": [],
   "source": [
    "#Assignment answer number 5"
   ]
  },
  {
   "cell_type": "code",
   "execution_count": 16,
   "id": "ef0638d3-5eca-4233-9364-6e96c175604f",
   "metadata": {},
   "outputs": [
    {
     "name": "stdout",
     "output_type": "stream",
     "text": [
      "[2, 3]\n"
     ]
    }
   ],
   "source": [
    "my_list = [1, 2, 3, 4, 5]\n",
    "sub_list = my_list[1:3]\n",
    "print(sub_list)"
   ]
  },
  {
   "cell_type": "code",
   "execution_count": 17,
   "id": "4f498bd9-fb74-4321-8d16-55d6ea611d35",
   "metadata": {},
   "outputs": [],
   "source": [
    "#Assignment answer number 6"
   ]
  },
  {
   "cell_type": "code",
   "execution_count": null,
   "id": "510e5190-6671-49b9-a1a2-c258317f04a1",
   "metadata": {},
   "outputs": [],
   "source": [
    "In mathematics, a complex number is a number that consists of two parts:\n",
    "\n",
    "A real part (a normal number).\n",
    "An imaginary part (a multiple of the imaginary unit i, where i is the square root of -1).\n",
    "\n",
    "A complex number is generally written as: a + bi where:\n",
    "a is the real part.\n",
    "b is the imaginary part.\n",
    "i is the imaginary unit.\n",
    "\n",
    "In Python, complex numbers are represented using the format: a + bj where:\n",
    "a is the real part.\n",
    "b is the imaginary part.\n",
    "j is used instead of i to denote the imaginary unit.\n",
    "\n",
    "\n"
   ]
  },
  {
   "cell_type": "code",
   "execution_count": 18,
   "id": "bbed1d58-46cf-4607-86f7-7842abb0e7b8",
   "metadata": {},
   "outputs": [],
   "source": [
    "#Assignment answer number 7"
   ]
  },
  {
   "cell_type": "code",
   "execution_count": 19,
   "id": "f1dbf01c-cb98-4e3e-8b9f-6aa01264c215",
   "metadata": {},
   "outputs": [],
   "source": [
    "age = 25, where:\n",
    "age is the variable name.\n",
    "= is the assignment operator.\n",
    "25 is the value being assigned to the variable age."
   ]
  },
  {
   "cell_type": "code",
   "execution_count": 20,
   "id": "edc2b58c-38fa-45ef-b5fa-0b8c871a43cb",
   "metadata": {},
   "outputs": [],
   "source": [
    "#Assignment answer number 8"
   ]
  },
  {
   "cell_type": "code",
   "execution_count": 21,
   "id": "106820fd-31ac-429a-aba0-4f551e3da731",
   "metadata": {},
   "outputs": [
    {
     "data": {
      "text/plain": [
       "float"
      ]
     },
     "execution_count": 21,
     "metadata": {},
     "output_type": "execute_result"
    }
   ],
   "source": [
    "price = 9.99\n",
    "type(price)"
   ]
  },
  {
   "cell_type": "code",
   "execution_count": 22,
   "id": "93df0517-b765-45e4-bd11-be3e0421d51e",
   "metadata": {},
   "outputs": [],
   "source": [
    "#Assignment answer number 9"
   ]
  },
  {
   "cell_type": "code",
   "execution_count": 23,
   "id": "92c09f84-ffb8-4af3-a5b5-14c48bf4c12c",
   "metadata": {},
   "outputs": [
    {
     "name": "stdout",
     "output_type": "stream",
     "text": [
      "Manu Sachan\n"
     ]
    }
   ],
   "source": [
    "name = \"Manu Sachan\"\n",
    "print(name)"
   ]
  },
  {
   "cell_type": "code",
   "execution_count": 25,
   "id": "54860f6d-db0d-40cb-8ac6-f737296bc180",
   "metadata": {},
   "outputs": [],
   "source": [
    "#Assignment answer number 10"
   ]
  },
  {
   "cell_type": "code",
   "execution_count": 28,
   "id": "643fffe7-a935-4ef4-bd9c-5f7fea21b1fb",
   "metadata": {},
   "outputs": [
    {
     "name": "stdout",
     "output_type": "stream",
     "text": [
      "World\n"
     ]
    }
   ],
   "source": [
    "string = \"Hello,World!\"\n",
    "substring = string[6:11]\n",
    "print(substring)"
   ]
  },
  {
   "cell_type": "code",
   "execution_count": 29,
   "id": "9c710af6-d6f7-4a61-92b6-82d601c71180",
   "metadata": {},
   "outputs": [],
   "source": [
    "#Assignment answer  number 11"
   ]
  },
  {
   "cell_type": "code",
   "execution_count": null,
   "id": "e0d0c6b0-5ef4-41a2-b412-25ee840f211f",
   "metadata": {},
   "outputs": [],
   "source": [
    "If you are a student:\n",
    "is_student = True\n",
    "If you are not a student:\n",
    "is_student = False"
   ]
  }
 ],
 "metadata": {
  "kernelspec": {
   "display_name": "Python 3 (ipykernel)",
   "language": "python",
   "name": "python3"
  },
  "language_info": {
   "codemirror_mode": {
    "name": "ipython",
    "version": 3
   },
   "file_extension": ".py",
   "mimetype": "text/x-python",
   "name": "python",
   "nbconvert_exporter": "python",
   "pygments_lexer": "ipython3",
   "version": "3.8.5"
  }
 },
 "nbformat": 4,
 "nbformat_minor": 5
}
