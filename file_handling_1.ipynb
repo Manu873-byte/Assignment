{
 "cells": [
  {
   "cell_type": "code",
   "execution_count": 1,
   "id": "558f08a5-e707-4618-bbff-fb4d525a9396",
   "metadata": {},
   "outputs": [],
   "source": [
    "# Answer number 1:"
   ]
  },
  {
   "cell_type": "code",
   "execution_count": null,
   "id": "b642d3e7-1826-47b5-8ff8-07a0b2ef417b",
   "metadata": {},
   "outputs": [],
   "source": [
    "An exception is an error that occurs during program execution, causing it to stop unless handled.\n",
    "Exception: Happens while running the program (e.g., dividing by zero).\n",
    "Syntax Error: Happens before the program runs due to incorrect code structure (e.g., missing a colon in a loop)."
   ]
  },
  {
   "cell_type": "code",
   "execution_count": 2,
   "id": "b4a3a33e-dbbe-49fe-83fc-a321a564f61b",
   "metadata": {},
   "outputs": [],
   "source": [
    "# Answer number 2:"
   ]
  },
  {
   "cell_type": "code",
   "execution_count": 5,
   "id": "37b6361a-cd6f-4791-b580-879a1b69dc49",
   "metadata": {},
   "outputs": [
    {
     "ename": "ZeroDivisionError",
     "evalue": "division by zero",
     "output_type": "error",
     "traceback": [
      "\u001b[1;31m---------------------------------------------------------------------------\u001b[0m",
      "\u001b[1;31mZeroDivisionError\u001b[0m                         Traceback (most recent call last)",
      "Cell \u001b[1;32mIn[5], line 3\u001b[0m\n\u001b[0;32m      1\u001b[0m \u001b[38;5;66;03m#If an exception is not handled, the program stops running and shows an error message (traceback).\u001b[39;00m\n\u001b[0;32m      2\u001b[0m \u001b[38;5;66;03m#Example:-\u001b[39;00m\n\u001b[1;32m----> 3\u001b[0m x \u001b[38;5;241m=\u001b[39m \u001b[38;5;241;43m10\u001b[39;49m\u001b[43m \u001b[49m\u001b[38;5;241;43m/\u001b[39;49m\u001b[43m \u001b[49m\u001b[38;5;241;43m0\u001b[39;49m  \u001b[38;5;66;03m# Division by zero\u001b[39;00m\n\u001b[0;32m      4\u001b[0m \u001b[38;5;28mprint\u001b[39m(\u001b[38;5;124mf\u001b[39m\u001b[38;5;124m\"\u001b[39m\u001b[38;5;124mThis line will not execute.\u001b[39m\u001b[38;5;132;01m{\u001b[39;00mx\u001b[38;5;132;01m}\u001b[39;00m\u001b[38;5;124m\"\u001b[39m)\n",
      "\u001b[1;31mZeroDivisionError\u001b[0m: division by zero"
     ]
    }
   ],
   "source": [
    "If an exception is not handled, the program stops running and shows an error message (traceback).\n",
    "Example:-\n",
    "x = 10 / 0  # Division by zero\n",
    "print(f\"This line will not execute.{x}\")"
   ]
  },
  {
   "cell_type": "code",
   "execution_count": 6,
   "id": "ab7e25dc-49be-4b12-a493-1ae7bca0b1f7",
   "metadata": {},
   "outputs": [],
   "source": [
    "# Answer number 3:-"
   ]
  },
  {
   "cell_type": "code",
   "execution_count": 7,
   "id": "fcaa642a-37fb-472f-b960-6521101728f0",
   "metadata": {},
   "outputs": [
    {
     "name": "stdin",
     "output_type": "stream",
     "text": [
      "Enter a number:  50\n"
     ]
    },
    {
     "name": "stdout",
     "output_type": "stream",
     "text": [
      "Result: 0.2\n",
      "Execution completed.\n"
     ]
    }
   ],
   "source": [
    "Python uses try, except, else, and finally to catch and handle exceptions.\n",
    "try: Contains the code that may raise an exception.\n",
    "except: Catches specific exceptions and handles them.\n",
    "else: Runs only if no exception occurs.\n",
    "finally: Runs always, whether an exception occurs or not.\n",
    "Example:\n",
    "try:\n",
    "    num = int(input(\"Enter a number: \"))  \n",
    "    result = 10 / num  \n",
    "except ValueError:\n",
    "    print(\"Invalid input! Please enter a number.50\")\n",
    "except ZeroDivisionError:\n",
    "    print(\"Cannot divide by zero.\")\n",
    "else:\n",
    "    print(f\"Result: {result}\")  \n",
    "finally:\n",
    "    print(\"Execution completed.\")"
   ]
  },
  {
   "cell_type": "code",
   "execution_count": 8,
   "id": "aba5b931-4da3-4f79-b91a-095693d5eeea",
   "metadata": {},
   "outputs": [],
   "source": [
    "# Answer number 4:-"
   ]
  },
  {
   "cell_type": "code",
   "execution_count": 11,
   "id": "7decd23b-3116-4307-bef3-5753670369ff",
   "metadata": {},
   "outputs": [
    {
     "name": "stdin",
     "output_type": "stream",
     "text": [
      "Enter a number:  0\n"
     ]
    },
    {
     "name": "stdout",
     "output_type": "stream",
     "text": [
      "Cannot divide by zero.\n",
      "File not found.\n",
      "Closing program.\n"
     ]
    },
    {
     "name": "stdin",
     "output_type": "stream",
     "text": [
      "Enter your age:  12\n"
     ]
    },
    {
     "ename": "ValueError",
     "evalue": "You must be 18 or older to vote.",
     "output_type": "error",
     "traceback": [
      "\u001b[1;31m---------------------------------------------------------------------------\u001b[0m",
      "\u001b[1;31mValueError\u001b[0m                                Traceback (most recent call last)",
      "Cell \u001b[1;32mIn[11], line 29\u001b[0m\n\u001b[0;32m     27\u001b[0m age \u001b[38;5;241m=\u001b[39m \u001b[38;5;28mint\u001b[39m(\u001b[38;5;28minput\u001b[39m(\u001b[38;5;124m\"\u001b[39m\u001b[38;5;124mEnter your age: \u001b[39m\u001b[38;5;124m\"\u001b[39m))\n\u001b[0;32m     28\u001b[0m \u001b[38;5;28;01mif\u001b[39;00m age \u001b[38;5;241m<\u001b[39m \u001b[38;5;241m18\u001b[39m:\n\u001b[1;32m---> 29\u001b[0m     \u001b[38;5;28;01mraise\u001b[39;00m \u001b[38;5;167;01mValueError\u001b[39;00m(\u001b[38;5;124m\"\u001b[39m\u001b[38;5;124mYou must be 18 or older to vote.\u001b[39m\u001b[38;5;124m\"\u001b[39m)\n\u001b[0;32m     30\u001b[0m \u001b[38;5;28;01melse\u001b[39;00m:\n\u001b[0;32m     31\u001b[0m     \u001b[38;5;28mprint\u001b[39m(\u001b[38;5;124m\"\u001b[39m\u001b[38;5;124mYou are eligible to vote!\u001b[39m\u001b[38;5;124m\"\u001b[39m)    \n",
      "\u001b[1;31mValueError\u001b[0m: You must be 18 or older to vote."
     ]
    }
   ],
   "source": [
    "1. try and else:-\n",
    "The try block contains code that might raise an exception.\n",
    "The else block runs only if no exception occurs in the try block.\n",
    "Example:\n",
    "try:\n",
    "    num = int(input(\"Enter a number: \"))  # Might cause ValueError\n",
    "    result = 10 / num  # Might cause ZeroDivisionError\n",
    "except ZeroDivisionError:\n",
    "    print(\"Cannot divide by zero.\")\n",
    "except ValueError:\n",
    "    print(\"Invalid input! Enter a number.\")\n",
    "else:\n",
    "    print(f\"Result: {result}\")\n",
    "2. finally:-\n",
    "The finally block always executes, regardless of whether an exception occurs.\n",
    "Example:\n",
    "try:\n",
    "    file = open(\"sample.txt\", \"r\")  \n",
    "    print(file.read())\n",
    "except FileNotFoundError:\n",
    "    print(\"File not found.\")\n",
    "finally:\n",
    "    print(\"Closing program.\")\n",
    "3. raise:-\n",
    "Used to manually trigger an exception in Python.\n",
    "Example:\n",
    "age = int(input(\"Enter your age: \"))\n",
    "if age < 18:\n",
    "    raise ValueError(\"You must be 18 or older to vote.\")\n",
    "else:\n",
    "    print(\"You are eligible to vote!\")    \n"
   ]
  },
  {
   "cell_type": "code",
   "execution_count": 12,
   "id": "685c85df-87b5-45aa-a99c-5e8a3b5a9578",
   "metadata": {},
   "outputs": [],
   "source": [
    "# Answer number 5:-"
   ]
  },
  {
   "cell_type": "code",
   "execution_count": null,
   "id": "807b81d2-ef55-4ca0-993a-f84fff1cf508",
   "metadata": {},
   "outputs": [],
   "source": [
    "Custom exceptions are user-defined error classes that allow us to create meaningful error messages specific\n",
    "to our program's needs.\n",
    "Built-in exceptions (like ValueError, TypeError) may not always be enough.\n",
    "Custom exceptions improve code readability by giving specific error messages.\n",
    "They help in better debugging and handling program-specific errors."
   ]
  },
  {
   "cell_type": "code",
   "execution_count": 13,
   "id": "c801e0da-8f1b-4563-8303-244ea3718125",
   "metadata": {},
   "outputs": [
    {
     "name": "stdin",
     "output_type": "stream",
     "text": [
      "Enter withdrawal amount:  500\n"
     ]
    },
    {
     "name": "stdout",
     "output_type": "stream",
     "text": [
      "Transaction successful! New balance: 0\n"
     ]
    }
   ],
   "source": [
    "Example:-\n",
    "# Step 1: Create a custom exception class\n",
    "class InsufficientBalanceError(Exception):\n",
    "    def __init__(self, message=\"Insufficient balance in your account!\"):\n",
    "        self.message = message\n",
    "        super().__init__(self.message)\n",
    "\n",
    "# Step 2: Use the custom exception in a function\n",
    "def withdraw(balance, amount):\n",
    "    if amount > balance:\n",
    "        raise InsufficientBalanceError(f\"Withdrawal failed! Available balance: {balance}\")\n",
    "    balance -= amount\n",
    "    return balance\n",
    "\n",
    "# Step 3: Handle the exception\n",
    "try:\n",
    "    balance = 500  # Initial balance\n",
    "    amount_to_withdraw = int(input(\"Enter withdrawal amount: \"))\n",
    "    new_balance = withdraw(balance, amount_to_withdraw)\n",
    "    print(f\"Transaction successful! New balance: {new_balance}\")\n",
    "except InsufficientBalanceError as e:\n",
    "    print(f\"Error: {e}\")"
   ]
  },
  {
   "cell_type": "code",
   "execution_count": 14,
   "id": "9172eefe-ce33-422f-8abb-9a0416956fdd",
   "metadata": {},
   "outputs": [],
   "source": [
    "# Answer number 6:-"
   ]
  },
  {
   "cell_type": "code",
   "execution_count": 15,
   "id": "e09c4dee-558f-4712-8dda-744a671a60ce",
   "metadata": {},
   "outputs": [
    {
     "name": "stdout",
     "output_type": "stream",
     "text": [
      "Error: Negative numbers are not allowed!\n"
     ]
    }
   ],
   "source": [
    "class NegativeNumberError(Exception):\n",
    "    pass\n",
    "def check_positive(num):\n",
    "    if num < 0:\n",
    "        raise NegativeNumberError(\"Negative numbers are not allowed!\")\n",
    "    else:\n",
    "        print(f\"Valid number: {num}\")\n",
    "\n",
    "try:\n",
    "    check_positive(-5)  \n",
    "except NegativeNumberError as e:\n",
    "    print(f\"Error: {e}\")    "
   ]
  },
  {
   "cell_type": "code",
   "execution_count": null,
   "id": "b23c790a-4aa2-483f-bdd9-632788262fd4",
   "metadata": {},
   "outputs": [],
   "source": []
  }
 ],
 "metadata": {
  "kernelspec": {
   "display_name": "Python 3 (ipykernel)",
   "language": "python",
   "name": "python3"
  },
  "language_info": {
   "codemirror_mode": {
    "name": "ipython",
    "version": 3
   },
   "file_extension": ".py",
   "mimetype": "text/x-python",
   "name": "python",
   "nbconvert_exporter": "python",
   "pygments_lexer": "ipython3",
   "version": "3.8.5"
  }
 },
 "nbformat": 4,
 "nbformat_minor": 5
}
