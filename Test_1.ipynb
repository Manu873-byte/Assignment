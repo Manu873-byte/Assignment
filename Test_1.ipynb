{
 "cells": [
  {
   "cell_type": "code",
   "execution_count": 2,
   "id": "dfb7982f-85d4-429e-9a6e-c4acd98575ff",
   "metadata": {},
   "outputs": [],
   "source": [
    "# Answer number 1:-"
   ]
  },
  {
   "cell_type": "code",
   "execution_count": 3,
   "id": "25804bd5-3f66-46e2-91a2-295409cee780",
   "metadata": {},
   "outputs": [
    {
     "name": "stdout",
     "output_type": "stream",
     "text": [
      "[1, 3, 5, 7, 9, 11, 13, 15, 17, 19, 21, 23, 25]\n"
     ]
    }
   ],
   "source": [
    "# In Python, the def keyword is used to create a function.\n",
    "\n",
    "def odd_numbers():\n",
    "    return [num for num in range (1,26) if num % 2 != 0]\n",
    "odd_list = odd_numbers()\n",
    "print(odd_list)"
   ]
  },
  {
   "cell_type": "code",
   "execution_count": 4,
   "id": "4984b5cc-1eb4-4f13-8081-de8dc3967bca",
   "metadata": {},
   "outputs": [],
   "source": [
    "# Answer number 2:-"
   ]
  },
  {
   "cell_type": "code",
   "execution_count": 6,
   "id": "6b0a2998-0d6a-43fa-bd1c-e80a1bf1d36c",
   "metadata": {},
   "outputs": [
    {
     "name": "stdout",
     "output_type": "stream",
     "text": [
      "16\n"
     ]
    }
   ],
   "source": [
    "# In Python, *args and **kwargs are used to pass a variable number of arguments to a function.\n",
    "\n",
    "# Use of *args:-\n",
    "def sum_all(*args):\n",
    "    return sum(args)\n",
    "print(sum_all(3,8,5))    "
   ]
  },
  {
   "cell_type": "code",
   "execution_count": 9,
   "id": "e394616e-c66a-4216-8cf3-90b4889feff2",
   "metadata": {},
   "outputs": [
    {
     "name": "stdout",
     "output_type": "stream",
     "text": [
      "{'name': 'Manu', 'age': 21, 'city': 'New Delhi'}\n"
     ]
    }
   ],
   "source": [
    "# Use of **kwargs:-\n",
    "def person_info(**kwargs):\n",
    "    return kwargs\n",
    "print(person_info(name = \"Manu\",age = 21,city = \"New Delhi\"))    \n",
    "    "
   ]
  },
  {
   "cell_type": "code",
   "execution_count": 10,
   "id": "2bb90a2f-42e1-4251-8857-0ea3790ac9a9",
   "metadata": {},
   "outputs": [],
   "source": [
    "# Answer number 3:-"
   ]
  },
  {
   "cell_type": "code",
   "execution_count": 11,
   "id": "c966d6ff-28d7-4606-b972-a69163ea7b08",
   "metadata": {},
   "outputs": [
    {
     "name": "stdout",
     "output_type": "stream",
     "text": [
      "2\n",
      "4\n",
      "6\n",
      "8\n",
      "10\n"
     ]
    }
   ],
   "source": [
    "# iterator:- An iterator is like a bookmark that helps you go through a list (or any collection) one item at a time.\n",
    "# Iterators are objects that implement two methods:-\n",
    "# 1. __iter__(): This method is used to initialize the iterator object. It returns the iterator object itself.\n",
    "# 2.__next__(): This method is used to get the next value from the iterator. \n",
    "\n",
    "# To print first five elements:-\n",
    "numbers = [2, 4, 6, 8, 10, 12, 14, 16, 18, 20]\n",
    "iterator = iter(numbers)\n",
    "for _ in range(5):\n",
    "    print(next(iterator))"
   ]
  },
  {
   "cell_type": "code",
   "execution_count": 12,
   "id": "1f7d9646-705a-4826-b2a1-523e0493cedb",
   "metadata": {},
   "outputs": [],
   "source": [
    "# Answer number 4:-"
   ]
  },
  {
   "cell_type": "code",
   "execution_count": 16,
   "id": "1d6f1a8f-99ce-4abd-8f2a-f252e5930a9b",
   "metadata": {},
   "outputs": [
    {
     "name": "stdout",
     "output_type": "stream",
     "text": [
      "1\n",
      "4\n",
      "9\n",
      "16\n",
      "25\n"
     ]
    }
   ],
   "source": [
    "# A generator function in Python is a special type of function that yields values one at a time, rather than returning all the values at once. \n",
    "# yield keyword is used because it starts again when function is called from where it stopped and gives the next one. It keeps doing this until there are no more results left.\n",
    "\n",
    "# Here’s an example that generates squares of numbers from 1 to 5:\n",
    "def generate_squares(n):\n",
    "    for i in range(1,n+1):\n",
    "        yield i** 2\n",
    "squares = generate_squares(5)\n",
    "for square in squares:\n",
    "    print(square)\n",
    "\n",
    "    "
   ]
  },
  {
   "cell_type": "code",
   "execution_count": 17,
   "id": "f6ec0308-5521-4535-af4c-f55a5bc84dc9",
   "metadata": {},
   "outputs": [],
   "source": [
    "# Answer number 5:-"
   ]
  },
  {
   "cell_type": "code",
   "execution_count": 24,
   "id": "3893e184-ee15-4b1c-9094-700bd2b1fc96",
   "metadata": {},
   "outputs": [
    {
     "name": "stdout",
     "output_type": "stream",
     "text": [
      "2\n",
      "3\n",
      "5\n",
      "7\n",
      "11\n",
      "13\n",
      "17\n",
      "19\n",
      "23\n",
      "29\n",
      "31\n",
      "37\n",
      "41\n",
      "43\n",
      "47\n",
      "53\n",
      "59\n",
      "61\n",
      "67\n",
      "71\n"
     ]
    }
   ],
   "source": [
    "def generate_primes():\n",
    "    for num in range(2,1000):\n",
    "        is_prime = True\n",
    "        for i in range(2,int(num ** 0.5)+1):\n",
    "            if num % i == 0:\n",
    "                is_prime = False\n",
    "                break\n",
    "        if is_prime:\n",
    "            yield num\n",
    "prime_gen = generate_primes()\n",
    "for _ in range(20):\n",
    "    print(next(prime_gen))\n",
    "        "
   ]
  },
  {
   "cell_type": "code",
   "execution_count": 25,
   "id": "6fd73db9-302f-4114-a3e5-841639c49b84",
   "metadata": {},
   "outputs": [],
   "source": [
    "# Answer number 6:-"
   ]
  },
  {
   "cell_type": "code",
   "execution_count": 26,
   "id": "167b2f76-31e5-4d48-b55d-9a365e6a4706",
   "metadata": {},
   "outputs": [
    {
     "name": "stdout",
     "output_type": "stream",
     "text": [
      "0\n",
      "1\n",
      "1\n",
      "2\n",
      "3\n",
      "5\n",
      "8\n",
      "13\n",
      "21\n",
      "34\n"
     ]
    }
   ],
   "source": [
    "a,b = 0,1\n",
    "count = 0\n",
    "while count<10:\n",
    "    print(a)\n",
    "    a,b = b,a+b\n",
    "    count += 1"
   ]
  },
  {
   "cell_type": "code",
   "execution_count": 27,
   "id": "96f70bc7-3924-4c0d-b72e-20ebfa3cd39c",
   "metadata": {},
   "outputs": [],
   "source": [
    "# Answer number 7:-"
   ]
  },
  {
   "cell_type": "code",
   "execution_count": 28,
   "id": "54ba6f64-0ab0-4591-84a6-5bd1bf506549",
   "metadata": {},
   "outputs": [
    {
     "name": "stdout",
     "output_type": "stream",
     "text": [
      "['p', 'w', 's', 'k', 'i', 'l', 'l', 's']\n"
     ]
    }
   ],
   "source": [
    "string = 'pwskills'\n",
    "result = [a for a in string]\n",
    "print(result)"
   ]
  },
  {
   "cell_type": "code",
   "execution_count": 29,
   "id": "ddb1aced-0641-45d0-bef9-1b88adb9c4d3",
   "metadata": {},
   "outputs": [],
   "source": [
    "# Answer number 8:-"
   ]
  },
  {
   "cell_type": "code",
   "execution_count": 4,
   "id": "bb57a032-0df0-41d4-9080-14b7c4a1088b",
   "metadata": {},
   "outputs": [
    {
     "name": "stdin",
     "output_type": "stream",
     "text": [
      "Enter the number 9065\n"
     ]
    },
    {
     "name": "stdout",
     "output_type": "stream",
     "text": [
      "9065 is not a palindrom.\n"
     ]
    }
   ],
   "source": [
    "num = int(input(\"Enter the number\"))\n",
    "original_num = num\n",
    "reversed_num = 0\n",
    "while num > 0:\n",
    "    reversed_num = reversed_num*10 + num % 10\n",
    "    num//= 10\n",
    "if original_num == reversed_num:\n",
    "    print(f\"{original_num} is a palindrome.\")\n",
    "else:\n",
    "    print(f\"{original_num} is not a palindrom.\")\n"
   ]
  },
  {
   "cell_type": "code",
   "execution_count": 5,
   "id": "bb92b870-9c83-4b44-8a29-96b3450e3c28",
   "metadata": {},
   "outputs": [],
   "source": [
    "# Answer number 9:-"
   ]
  },
  {
   "cell_type": "code",
   "execution_count": 6,
   "id": "86618087-932d-449e-893f-cade4db2443f",
   "metadata": {},
   "outputs": [
    {
     "name": "stdout",
     "output_type": "stream",
     "text": [
      "[1, 3, 5, 7, 9, 11, 13, 15, 17, 19, 21, 23, 25, 27, 29, 31, 33, 35, 37, 39, 41, 43, 45, 47, 49, 51, 53, 55, 57, 59, 61, 63, 65, 67, 69, 71, 73, 75, 77, 79, 81, 83, 85, 87, 89, 91, 93, 95, 97, 99]\n"
     ]
    }
   ],
   "source": [
    "odd_numbers = [num for num in range (1,101) if num % 2 != 0]\n",
    "print(odd_numbers)"
   ]
  },
  {
   "cell_type": "code",
   "execution_count": null,
   "id": "85225503-39b0-4586-bc93-519fee399af0",
   "metadata": {},
   "outputs": [],
   "source": []
  }
 ],
 "metadata": {
  "kernelspec": {
   "display_name": "Python 3 (ipykernel)",
   "language": "python",
   "name": "python3"
  },
  "language_info": {
   "codemirror_mode": {
    "name": "ipython",
    "version": 3
   },
   "file_extension": ".py",
   "mimetype": "text/x-python",
   "name": "python",
   "nbconvert_exporter": "python",
   "pygments_lexer": "ipython3",
   "version": "3.8.5"
  }
 },
 "nbformat": 4,
 "nbformat_minor": 5
}
