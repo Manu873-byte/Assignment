{
 "cells": [
  {
   "cell_type": "code",
   "execution_count": null,
   "id": "ea288755-e459-47c6-a3d1-7cf07aa8f2d9",
   "metadata": {},
   "outputs": [],
   "source": [
    "#Assignment answer number 1"
   ]
  },
  {
   "cell_type": "code",
   "execution_count": 43,
   "id": "c4502861-eb35-4e08-839b-9dbb7fb2873b",
   "metadata": {},
   "outputs": [
    {
     "name": "stdout",
     "output_type": "stream",
     "text": [
      "['Manu', [1, 2, 3], 32.3, (3, 4)]\n"
     ]
    }
   ],
   "source": [
    "a = [\"Manu\",[1,2,3],32.3,(3,4)]\n",
    "print(a)"
   ]
  },
  {
   "cell_type": "code",
   "execution_count": null,
   "id": "177f6cc7-7d55-4ba7-96b6-a5dab178c389",
   "metadata": {},
   "outputs": [],
   "source": [
    "#Assignment answer number 2 "
   ]
  },
  {
   "cell_type": "code",
   "execution_count": 44,
   "id": "f01c08dc-886d-40ce-b0ba-21bd63e7de33",
   "metadata": {},
   "outputs": [
    {
     "data": {
      "text/plain": [
       "str"
      ]
     },
     "execution_count": 44,
     "metadata": {},
     "output_type": "execute_result"
    }
   ],
   "source": [
    "var1 = ' '\n",
    "type(var1)"
   ]
  },
  {
   "cell_type": "code",
   "execution_count": 45,
   "id": "6b288ed3-f3f1-4027-8c71-775f59d1e26c",
   "metadata": {},
   "outputs": [
    {
     "data": {
      "text/plain": [
       "str"
      ]
     },
     "execution_count": 45,
     "metadata": {},
     "output_type": "execute_result"
    }
   ],
   "source": [
    "var2 = '[ DS , ML , Python]'\n",
    "type(var2) "
   ]
  },
  {
   "cell_type": "code",
   "execution_count": 46,
   "id": "063785fe-167b-40b7-be18-609db55f4fc0",
   "metadata": {},
   "outputs": [
    {
     "data": {
      "text/plain": [
       "list"
      ]
     },
     "execution_count": 46,
     "metadata": {},
     "output_type": "execute_result"
    }
   ],
   "source": [
    "var3 = [ 'DS' , 'ML' , 'Python' ]\n",
    "type(var3)"
   ]
  },
  {
   "cell_type": "code",
   "execution_count": 47,
   "id": "d7328cfa-2cdc-46f6-90db-7ad870522ba6",
   "metadata": {},
   "outputs": [
    {
     "data": {
      "text/plain": [
       "float"
      ]
     },
     "execution_count": 47,
     "metadata": {},
     "output_type": "execute_result"
    }
   ],
   "source": [
    "var4 = 1.\n",
    "type(var4)"
   ]
  },
  {
   "cell_type": "code",
   "execution_count": 14,
   "id": "de1b3d7d-fa1e-469f-a326-878c9abbf6ab",
   "metadata": {},
   "outputs": [],
   "source": [
    "#Assignment answer number 3"
   ]
  },
  {
   "cell_type": "code",
   "execution_count": 15,
   "id": "50efe49b-af46-4c57-b3ec-7759797eb8e4",
   "metadata": {},
   "outputs": [
    {
     "name": "stdout",
     "output_type": "stream",
     "text": [
      "3.3333333333333335\n"
     ]
    }
   ],
   "source": [
    "result = 10 / 3\n",
    "print(result)"
   ]
  },
  {
   "cell_type": "code",
   "execution_count": 16,
   "id": "465700f3-e3b1-490c-9211-7e6a5b678f6d",
   "metadata": {},
   "outputs": [
    {
     "name": "stdout",
     "output_type": "stream",
     "text": [
      "1\n"
     ]
    }
   ],
   "source": [
    "remainder = 10 % 3\n",
    "print(remainder)"
   ]
  },
  {
   "cell_type": "code",
   "execution_count": 17,
   "id": "2123074b-742f-4e3b-9dde-cc16fdef46e4",
   "metadata": {},
   "outputs": [
    {
     "name": "stdout",
     "output_type": "stream",
     "text": [
      "3\n"
     ]
    }
   ],
   "source": [
    "quotient = 10 // 3\n",
    "print(quotient)"
   ]
  },
  {
   "cell_type": "code",
   "execution_count": 18,
   "id": "789b597d-6e85-4e1e-af5c-f4cb588f08da",
   "metadata": {},
   "outputs": [
    {
     "name": "stdout",
     "output_type": "stream",
     "text": [
      "8\n"
     ]
    }
   ],
   "source": [
    "power = 2 ** 3\n",
    "print(power)"
   ]
  },
  {
   "cell_type": "code",
   "execution_count": 19,
   "id": "bb9e7f89-b06f-419d-b5e5-4ffae6b5abd3",
   "metadata": {},
   "outputs": [],
   "source": [
    "#Assignment answer number 4"
   ]
  },
  {
   "cell_type": "code",
   "execution_count": 25,
   "id": "b1d6414a-c264-47e2-b928-47e69868b666",
   "metadata": {},
   "outputs": [
    {
     "name": "stdout",
     "output_type": "stream",
     "text": [
      " 25, <class 'int'>\n",
      " Hello, <class 'str'>\n",
      " 3.14, <class 'float'>\n",
      " True, <class 'bool'>\n",
      " [1, 2, 3], <class 'list'>\n",
      " {'key': 'value'}, <class 'dict'>\n",
      " (4, 5), <class 'tuple'>\n",
      " None, <class 'NoneType'>\n",
      " 7.5, <class 'float'>\n",
      " False, <class 'bool'>\n"
     ]
    }
   ],
   "source": [
    "l= [25, \"Hello\", 3.14, True, [1, 2, 3], {\"key\": \"value\"}, (4, 5), None, 7.5, False]\n",
    "for i in l:\n",
    "    print(f\" {i}, {type(i)}\")"
   ]
  },
  {
   "cell_type": "code",
   "execution_count": 26,
   "id": "bcab40de-b3c0-44c0-871f-d04f6bc25fcf",
   "metadata": {},
   "outputs": [],
   "source": [
    "#Assignment answer number 5"
   ]
  },
  {
   "cell_type": "code",
   "execution_count": 34,
   "id": "b9467fdf-ba66-4aba-ae6f-be0b47fdd3cd",
   "metadata": {},
   "outputs": [
    {
     "name": "stdout",
     "output_type": "stream",
     "text": [
      "The number is divisible by 6 times.\n"
     ]
    }
   ],
   "source": [
    "A = 64\n",
    "B = 2\n",
    "count = 0\n",
    "while A % B == 0:\n",
    "    A = A // B\n",
    "    count += 1\n",
    "if count > 0:    \n",
    "    print(f\"The number is divisible by {count} times.\")\n",
    "else:\n",
    "    print(f\"The number is not divisible by {B}.\")"
   ]
  },
  {
   "cell_type": "code",
   "execution_count": 35,
   "id": "bd619df7-197c-4155-9822-eca88c6709e1",
   "metadata": {},
   "outputs": [],
   "source": [
    "#Assignment answer number 6"
   ]
  },
  {
   "cell_type": "code",
   "execution_count": 36,
   "id": "a84146d5-cc22-4acc-bd0b-ad168a129148",
   "metadata": {},
   "outputs": [
    {
     "name": "stdout",
     "output_type": "stream",
     "text": [
      "10 is not divisible by 3.\n",
      "15 is divisible by 3.\n",
      "21 is divisible by 3.\n",
      "30 is divisible by 3.\n",
      "42 is divisible by 3.\n",
      "55 is not divisible by 3.\n",
      "63 is divisible by 3.\n",
      "70 is not divisible by 3.\n",
      "84 is divisible by 3.\n",
      "96 is divisible by 3.\n",
      "100 is not divisible by 3.\n",
      "105 is divisible by 3.\n",
      "108 is divisible by 3.\n",
      "115 is not divisible by 3.\n",
      "123 is divisible by 3.\n",
      "126 is divisible by 3.\n",
      "130 is not divisible by 3.\n",
      "135 is divisible by 3.\n",
      "150 is divisible by 3.\n",
      "160 is not divisible by 3.\n",
      "165 is divisible by 3.\n",
      "171 is divisible by 3.\n",
      "180 is divisible by 3.\n",
      "190 is not divisible by 3.\n",
      "195 is divisible by 3.\n"
     ]
    }
   ],
   "source": [
    "l =  [10, 15, 21, 30, 42, 55, 63, 70, 84, 96, 100, 105, 108, 115, 123, 126, 130, 135, 150, 160, 165, 171, 180, 190, 195]\n",
    "for i in l:\n",
    "    if i % 3 == 0:\n",
    "        print(f\"{i} is divisible by 3.\")\n",
    "    else:\n",
    "        print(f\"{i} is not divisible by 3.\")"
   ]
  },
  {
   "cell_type": "code",
   "execution_count": 37,
   "id": "33fce8c2-486f-45d3-b507-76fce1a3792e",
   "metadata": {},
   "outputs": [],
   "source": [
    "#Assignment answer number 7"
   ]
  },
  {
   "cell_type": "code",
   "execution_count": 40,
   "id": "7fcfdfa5-15de-417a-bd71-a8d0cdb113e4",
   "metadata": {},
   "outputs": [
    {
     "name": "stdout",
     "output_type": "stream",
     "text": [
      "[10, 2, 3]\n"
     ]
    }
   ],
   "source": [
    "#List is mutable means which can be modified or changed here is an example:\n",
    "l = [1,2,3]\n",
    "l[0] = 10 \n",
    "print(l)"
   ]
  },
  {
   "cell_type": "code",
   "execution_count": 41,
   "id": "7020f365-6975-4284-850f-d8657ffce2a2",
   "metadata": {},
   "outputs": [
    {
     "ename": "NameError",
     "evalue": "name 'y' is not defined",
     "output_type": "error",
     "traceback": [
      "\u001b[1;31m---------------------------------------------------------------------------\u001b[0m",
      "\u001b[1;31mNameError\u001b[0m                                 Traceback (most recent call last)",
      "Cell \u001b[1;32mIn[41], line 2\u001b[0m\n\u001b[0;32m      1\u001b[0m s \u001b[38;5;241m=\u001b[39m \u001b[38;5;124m\"\u001b[39m\u001b[38;5;124mHello\u001b[39m\u001b[38;5;124m\"\u001b[39m\n\u001b[1;32m----> 2\u001b[0m s[\u001b[38;5;241m0\u001b[39m] \u001b[38;5;241m=\u001b[39m \u001b[43my\u001b[49m\n\u001b[0;32m      3\u001b[0m \u001b[38;5;28mprint\u001b[39m(s)\n",
      "\u001b[1;31mNameError\u001b[0m: name 'y' is not defined"
     ]
    }
   ],
   "source": [
    "#String is immutable means which can not be modified or changed here is an example:\n",
    "s = \"Hello\"\n",
    "s[0] = y\n",
    "print(s)"
   ]
  },
  {
   "cell_type": "code",
   "execution_count": null,
   "id": "5588ae72-a4a3-4293-b428-4e3f8752d319",
   "metadata": {},
   "outputs": [],
   "source": []
  }
 ],
 "metadata": {
  "kernelspec": {
   "display_name": "Python 3 (ipykernel)",
   "language": "python",
   "name": "python3"
  },
  "language_info": {
   "codemirror_mode": {
    "name": "ipython",
    "version": 3
   },
   "file_extension": ".py",
   "mimetype": "text/x-python",
   "name": "python",
   "nbconvert_exporter": "python",
   "pygments_lexer": "ipython3",
   "version": "3.8.5"
  }
 },
 "nbformat": 4,
 "nbformat_minor": 5
}
