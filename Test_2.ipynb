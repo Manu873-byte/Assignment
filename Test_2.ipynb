{
 "cells": [
  {
   "cell_type": "code",
   "execution_count": 1,
   "id": "61bf5dfc-9a20-4fe1-805b-fe13719e31d9",
   "metadata": {},
   "outputs": [],
   "source": [
    "# Answer number 1:-"
   ]
  },
  {
   "cell_type": "code",
   "execution_count": 7,
   "id": "eec47874-8f84-4bbb-9579-adc68bc3192e",
   "metadata": {},
   "outputs": [
    {
     "name": "stdout",
     "output_type": "stream",
     "text": [
      "[('Virat Kohli', 24936), ('Jack Kallis', 25534), ('Ricky Ponting', 27483), ('Sachin Tendulkar', 34357)]\n"
     ]
    }
   ],
   "source": [
    "tuple_list = [('Sachin Tendulkar', 34357), ('Ricky Ponting', 27483), ('Jack Kallis', 25534), ('Virat Kohli', 24936)]\n",
    "sorted_tuples = sorted(tuple_list, key = lambda x: x[1])\n",
    "print(sorted_tuples)"
   ]
  },
  {
   "cell_type": "code",
   "execution_count": 8,
   "id": "38728bce-d19f-4c36-9cb3-d1dc047d0ec3",
   "metadata": {},
   "outputs": [],
   "source": [
    "# Answer number 2:-"
   ]
  },
  {
   "cell_type": "code",
   "execution_count": 11,
   "id": "518ab3be-e5fa-40ba-9ca7-79a5f65b5bb1",
   "metadata": {},
   "outputs": [
    {
     "name": "stdout",
     "output_type": "stream",
     "text": [
      "[1, 4, 9, 16, 25, 36, 49, 64, 81, 100]\n"
     ]
    }
   ],
   "source": [
    "l = [1, 2, 3, 4, 5, 6, 7, 8, 9, 10]\n",
    "square = list(map(lambda x: x ** 2,l))\n",
    "print(square)"
   ]
  },
  {
   "cell_type": "code",
   "execution_count": 12,
   "id": "3660a660-6017-4363-8985-81a1d3cf01af",
   "metadata": {},
   "outputs": [],
   "source": [
    "# Answer number 3:-"
   ]
  },
  {
   "cell_type": "code",
   "execution_count": 13,
   "id": "a3684cf8-d357-4c16-bb6e-186e6a2e78d4",
   "metadata": {},
   "outputs": [
    {
     "name": "stdout",
     "output_type": "stream",
     "text": [
      "('1', '2', '3', '4', '5', '6', '7', '8', '9', '10')\n"
     ]
    }
   ],
   "source": [
    "l = [1, 2, 3, 4, 5, 6, 7, 8, 9, 10]\n",
    "tuple_string = tuple(map(lambda x: str(x),l))\n",
    "print(tuple_string)"
   ]
  },
  {
   "cell_type": "code",
   "execution_count": 14,
   "id": "07f675e5-08ac-4ff8-8080-c88c0dfe7d9f",
   "metadata": {},
   "outputs": [],
   "source": [
    "# Answer number 4:-"
   ]
  },
  {
   "cell_type": "code",
   "execution_count": 19,
   "id": "32ae34a8-38db-425d-b3d0-7442b6f7f7aa",
   "metadata": {},
   "outputs": [
    {
     "name": "stdout",
     "output_type": "stream",
     "text": [
      "15511210043330985984000000\n"
     ]
    }
   ],
   "source": [
    "from functools import reduce\n",
    "numbers = list(range(1,26))\n",
    "product = reduce(lambda x,y : x*y,numbers)\n",
    "print(product)"
   ]
  },
  {
   "cell_type": "code",
   "execution_count": 20,
   "id": "d77c13b4-45ba-4a86-90eb-95dd0bcf674a",
   "metadata": {},
   "outputs": [],
   "source": [
    "# Answer number 5:-"
   ]
  },
  {
   "cell_type": "code",
   "execution_count": 26,
   "id": "b8869488-1aef-402a-a039-aa38538abd05",
   "metadata": {},
   "outputs": [
    {
     "name": "stdout",
     "output_type": "stream",
     "text": [
      "[6, 60, 90, 120]\n"
     ]
    }
   ],
   "source": [
    "l = [2, 3, 6, 9, 27, 60, 90, 120, 55, 46]\n",
    "result = list(filter(lambda x: x % 2== 0 and x % 3== 0,l))\n",
    "print(result)"
   ]
  },
  {
   "cell_type": "code",
   "execution_count": 27,
   "id": "dd28e7fc-f37c-4c24-92e2-abe524c07fc1",
   "metadata": {},
   "outputs": [],
   "source": [
    "# Answer number 6:-"
   ]
  },
  {
   "cell_type": "code",
   "execution_count": 30,
   "id": "225670cd-db68-4871-85d3-ed4666682556",
   "metadata": {},
   "outputs": [
    {
     "name": "stdout",
     "output_type": "stream",
     "text": [
      "['php', 'aba', 'radar', 'level']\n"
     ]
    }
   ],
   "source": [
    "l = ['python', 'php', 'aba', 'radar', 'level']\n",
    "result = list(filter(lambda x: x == x[::-1],l))\n",
    "print(result)"
   ]
  },
  {
   "cell_type": "code",
   "execution_count": null,
   "id": "9ad12ce1-2a6b-47f4-b945-9dbf55f959b7",
   "metadata": {},
   "outputs": [],
   "source": []
  }
 ],
 "metadata": {
  "kernelspec": {
   "display_name": "Python 3 (ipykernel)",
   "language": "python",
   "name": "python3"
  },
  "language_info": {
   "codemirror_mode": {
    "name": "ipython",
    "version": 3
   },
   "file_extension": ".py",
   "mimetype": "text/x-python",
   "name": "python",
   "nbconvert_exporter": "python",
   "pygments_lexer": "ipython3",
   "version": "3.8.5"
  }
 },
 "nbformat": 4,
 "nbformat_minor": 5
}
