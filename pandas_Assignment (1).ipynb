{
 "cells": [
  {
   "cell_type": "code",
   "execution_count": 1,
   "id": "c13efea6-11a2-4e9b-a8d7-e09bab87574c",
   "metadata": {},
   "outputs": [],
   "source": [
    "# Answer number 1:-"
   ]
  },
  {
   "cell_type": "code",
   "execution_count": 5,
   "id": "4800a581-ad90-4345-ac0a-d8304ed6126c",
   "metadata": {},
   "outputs": [],
   "source": [
    "import pandas as pd"
   ]
  },
  {
   "cell_type": "code",
   "execution_count": 9,
   "id": "06fb33c3-6c71-4450-98e5-bd2dd44db293",
   "metadata": {},
   "outputs": [
    {
     "data": {
      "text/html": [
       "<div>\n",
       "<style scoped>\n",
       "    .dataframe tbody tr th:only-of-type {\n",
       "        vertical-align: middle;\n",
       "    }\n",
       "\n",
       "    .dataframe tbody tr th {\n",
       "        vertical-align: top;\n",
       "    }\n",
       "\n",
       "    .dataframe thead th {\n",
       "        text-align: right;\n",
       "    }\n",
       "</style>\n",
       "<table border=\"1\" class=\"dataframe\">\n",
       "  <thead>\n",
       "    <tr style=\"text-align: right;\">\n",
       "      <th></th>\n",
       "      <th>Name</th>\n",
       "      <th>Age</th>\n",
       "    </tr>\n",
       "  </thead>\n",
       "  <tbody>\n",
       "    <tr>\n",
       "      <th>0</th>\n",
       "      <td>Manu</td>\n",
       "      <td>20</td>\n",
       "    </tr>\n",
       "    <tr>\n",
       "      <th>1</th>\n",
       "      <td>Kovid</td>\n",
       "      <td>28</td>\n",
       "    </tr>\n",
       "    <tr>\n",
       "      <th>2</th>\n",
       "      <td>Mayank</td>\n",
       "      <td>24</td>\n",
       "    </tr>\n",
       "  </tbody>\n",
       "</table>\n",
       "</div>"
      ],
      "text/plain": [
       "     Name  Age\n",
       "0    Manu   20\n",
       "1   Kovid   28\n",
       "2  Mayank   24"
      ]
     },
     "execution_count": 9,
     "metadata": {},
     "output_type": "execute_result"
    }
   ],
   "source": [
    "# head()\n",
    "data = {'Name':['Manu','Kovid','Mayank','Ruchi'],\n",
    "        'Age' :[20,28,24,25]}\n",
    "df = pd.DataFrame(data)\n",
    "df.head(3)"
   ]
  },
  {
   "cell_type": "code",
   "execution_count": 8,
   "id": "8235b61f-7427-4f88-b372-8ca8a0e8f79f",
   "metadata": {},
   "outputs": [
    {
     "name": "stdout",
     "output_type": "stream",
     "text": [
      "<class 'pandas.core.frame.DataFrame'>\n",
      "RangeIndex: 4 entries, 0 to 3\n",
      "Data columns (total 2 columns):\n",
      " #   Column  Non-Null Count  Dtype \n",
      "---  ------  --------------  ----- \n",
      " 0   Name    4 non-null      object\n",
      " 1   Age     4 non-null      int64 \n",
      "dtypes: int64(1), object(1)\n",
      "memory usage: 192.0+ bytes\n"
     ]
    }
   ],
   "source": [
    "# info()\n",
    "df.info()"
   ]
  },
  {
   "cell_type": "code",
   "execution_count": 10,
   "id": "5e0ea592-3700-44e6-9090-f59d9280630d",
   "metadata": {},
   "outputs": [
    {
     "data": {
      "text/html": [
       "<div>\n",
       "<style scoped>\n",
       "    .dataframe tbody tr th:only-of-type {\n",
       "        vertical-align: middle;\n",
       "    }\n",
       "\n",
       "    .dataframe tbody tr th {\n",
       "        vertical-align: top;\n",
       "    }\n",
       "\n",
       "    .dataframe thead th {\n",
       "        text-align: right;\n",
       "    }\n",
       "</style>\n",
       "<table border=\"1\" class=\"dataframe\">\n",
       "  <thead>\n",
       "    <tr style=\"text-align: right;\">\n",
       "      <th></th>\n",
       "      <th>Age</th>\n",
       "    </tr>\n",
       "  </thead>\n",
       "  <tbody>\n",
       "    <tr>\n",
       "      <th>count</th>\n",
       "      <td>4.000000</td>\n",
       "    </tr>\n",
       "    <tr>\n",
       "      <th>mean</th>\n",
       "      <td>24.250000</td>\n",
       "    </tr>\n",
       "    <tr>\n",
       "      <th>std</th>\n",
       "      <td>3.304038</td>\n",
       "    </tr>\n",
       "    <tr>\n",
       "      <th>min</th>\n",
       "      <td>20.000000</td>\n",
       "    </tr>\n",
       "    <tr>\n",
       "      <th>25%</th>\n",
       "      <td>23.000000</td>\n",
       "    </tr>\n",
       "    <tr>\n",
       "      <th>50%</th>\n",
       "      <td>24.500000</td>\n",
       "    </tr>\n",
       "    <tr>\n",
       "      <th>75%</th>\n",
       "      <td>25.750000</td>\n",
       "    </tr>\n",
       "    <tr>\n",
       "      <th>max</th>\n",
       "      <td>28.000000</td>\n",
       "    </tr>\n",
       "  </tbody>\n",
       "</table>\n",
       "</div>"
      ],
      "text/plain": [
       "             Age\n",
       "count   4.000000\n",
       "mean   24.250000\n",
       "std     3.304038\n",
       "min    20.000000\n",
       "25%    23.000000\n",
       "50%    24.500000\n",
       "75%    25.750000\n",
       "max    28.000000"
      ]
     },
     "execution_count": 10,
     "metadata": {},
     "output_type": "execute_result"
    }
   ],
   "source": [
    "# describe()\n",
    "df.describe()"
   ]
  },
  {
   "cell_type": "code",
   "execution_count": 14,
   "id": "a936e6d0-754d-42e6-86a5-4e07d49dfe8a",
   "metadata": {},
   "outputs": [
    {
     "data": {
      "text/html": [
       "<div>\n",
       "<style scoped>\n",
       "    .dataframe tbody tr th:only-of-type {\n",
       "        vertical-align: middle;\n",
       "    }\n",
       "\n",
       "    .dataframe tbody tr th {\n",
       "        vertical-align: top;\n",
       "    }\n",
       "\n",
       "    .dataframe thead th {\n",
       "        text-align: right;\n",
       "    }\n",
       "</style>\n",
       "<table border=\"1\" class=\"dataframe\">\n",
       "  <thead>\n",
       "    <tr style=\"text-align: right;\">\n",
       "      <th></th>\n",
       "      <th>Name</th>\n",
       "      <th>Age</th>\n",
       "    </tr>\n",
       "  </thead>\n",
       "  <tbody>\n",
       "    <tr>\n",
       "      <th>0</th>\n",
       "      <td>Manu</td>\n",
       "      <td>20</td>\n",
       "    </tr>\n",
       "    <tr>\n",
       "      <th>2</th>\n",
       "      <td>Mayank</td>\n",
       "      <td>24</td>\n",
       "    </tr>\n",
       "    <tr>\n",
       "      <th>3</th>\n",
       "      <td>Ruchi</td>\n",
       "      <td>25</td>\n",
       "    </tr>\n",
       "    <tr>\n",
       "      <th>1</th>\n",
       "      <td>Kovid</td>\n",
       "      <td>28</td>\n",
       "    </tr>\n",
       "  </tbody>\n",
       "</table>\n",
       "</div>"
      ],
      "text/plain": [
       "     Name  Age\n",
       "0    Manu   20\n",
       "2  Mayank   24\n",
       "3   Ruchi   25\n",
       "1   Kovid   28"
      ]
     },
     "execution_count": 14,
     "metadata": {},
     "output_type": "execute_result"
    }
   ],
   "source": [
    "# sort_values()\n",
    "sorted_df = df.sort_values('Age')\n",
    "sorted_df"
   ]
  },
  {
   "cell_type": "code",
   "execution_count": 15,
   "id": "bd159c43-392f-4fce-bba6-156f34fe1700",
   "metadata": {},
   "outputs": [
    {
     "data": {
      "text/html": [
       "<div>\n",
       "<style scoped>\n",
       "    .dataframe tbody tr th:only-of-type {\n",
       "        vertical-align: middle;\n",
       "    }\n",
       "\n",
       "    .dataframe tbody tr th {\n",
       "        vertical-align: top;\n",
       "    }\n",
       "\n",
       "    .dataframe thead th {\n",
       "        text-align: right;\n",
       "    }\n",
       "</style>\n",
       "<table border=\"1\" class=\"dataframe\">\n",
       "  <thead>\n",
       "    <tr style=\"text-align: right;\">\n",
       "      <th></th>\n",
       "      <th>Name</th>\n",
       "    </tr>\n",
       "  </thead>\n",
       "  <tbody>\n",
       "    <tr>\n",
       "      <th>0</th>\n",
       "      <td>Manu</td>\n",
       "    </tr>\n",
       "    <tr>\n",
       "      <th>1</th>\n",
       "      <td>Kovid</td>\n",
       "    </tr>\n",
       "    <tr>\n",
       "      <th>2</th>\n",
       "      <td>Mayank</td>\n",
       "    </tr>\n",
       "    <tr>\n",
       "      <th>3</th>\n",
       "      <td>Ruchi</td>\n",
       "    </tr>\n",
       "  </tbody>\n",
       "</table>\n",
       "</div>"
      ],
      "text/plain": [
       "     Name\n",
       "0    Manu\n",
       "1   Kovid\n",
       "2  Mayank\n",
       "3   Ruchi"
      ]
     },
     "execution_count": 15,
     "metadata": {},
     "output_type": "execute_result"
    }
   ],
   "source": [
    "# drop()\n",
    "dropped_df = df.drop('Age',axis=1)\n",
    "dropped_df"
   ]
  },
  {
   "cell_type": "code",
   "execution_count": 18,
   "id": "9349e2b1-6744-484b-b4d3-d6aba374091c",
   "metadata": {},
   "outputs": [],
   "source": [
    "# Answer number 2:-"
   ]
  },
  {
   "cell_type": "code",
   "execution_count": 30,
   "id": "f5bda542-be0a-4e05-a5cf-ad1f3272553c",
   "metadata": {},
   "outputs": [
    {
     "data": {
      "text/html": [
       "<div>\n",
       "<style scoped>\n",
       "    .dataframe tbody tr th:only-of-type {\n",
       "        vertical-align: middle;\n",
       "    }\n",
       "\n",
       "    .dataframe tbody tr th {\n",
       "        vertical-align: top;\n",
       "    }\n",
       "\n",
       "    .dataframe thead th {\n",
       "        text-align: right;\n",
       "    }\n",
       "</style>\n",
       "<table border=\"1\" class=\"dataframe\">\n",
       "  <thead>\n",
       "    <tr style=\"text-align: right;\">\n",
       "      <th></th>\n",
       "      <th>Name</th>\n",
       "      <th>Age</th>\n",
       "    </tr>\n",
       "  </thead>\n",
       "  <tbody>\n",
       "    <tr>\n",
       "      <th>1</th>\n",
       "      <td>Manu</td>\n",
       "      <td>20</td>\n",
       "    </tr>\n",
       "    <tr>\n",
       "      <th>3</th>\n",
       "      <td>Kovid</td>\n",
       "      <td>28</td>\n",
       "    </tr>\n",
       "    <tr>\n",
       "      <th>5</th>\n",
       "      <td>Mayank</td>\n",
       "      <td>24</td>\n",
       "    </tr>\n",
       "    <tr>\n",
       "      <th>7</th>\n",
       "      <td>Ruchi</td>\n",
       "      <td>25</td>\n",
       "    </tr>\n",
       "  </tbody>\n",
       "</table>\n",
       "</div>"
      ],
      "text/plain": [
       "     Name  Age\n",
       "1    Manu   20\n",
       "3   Kovid   28\n",
       "5  Mayank   24\n",
       "7   Ruchi   25"
      ]
     },
     "execution_count": 30,
     "metadata": {},
     "output_type": "execute_result"
    }
   ],
   "source": [
    "data = {'Name':['Manu','Kovid','Mayank','Ruchi'],\n",
    "        'Age' :[20,28,24,25]}\n",
    "df = pd.DataFrame(data)\n",
    "new_index = range(1,2*len(df)+1,2)\n",
    "df.index = new_index\n",
    "df"
   ]
  },
  {
   "cell_type": "code",
   "execution_count": 35,
   "id": "b3d3ab91-22aa-4d45-a1c3-2ed134624eff",
   "metadata": {},
   "outputs": [],
   "source": [
    "# Answer number 3:-"
   ]
  },
  {
   "cell_type": "code",
   "execution_count": 34,
   "id": "a0fa6f7a-3fa1-4c4d-80b6-5c7846735f4a",
   "metadata": {},
   "outputs": [
    {
     "name": "stdout",
     "output_type": "stream",
     "text": [
      "65\n"
     ]
    }
   ],
   "source": [
    "data = {'values':[10,20,35,6]}\n",
    "df = pd.DataFrame(data)\n",
    "total_sum = 0\n",
    "for i in range(min(3,len(df))):\n",
    "    total_sum += df['values'].iloc[i]\n",
    "print(total_sum)    \n",
    "    "
   ]
  },
  {
   "cell_type": "code",
   "execution_count": 36,
   "id": "d38837ac-7f74-4fd3-bd7e-a89c6d5095f6",
   "metadata": {},
   "outputs": [],
   "source": [
    "# Answer number 4:-"
   ]
  },
  {
   "cell_type": "code",
   "execution_count": 37,
   "id": "92abeeed-51a5-468d-b1d3-0a05a1417912",
   "metadata": {},
   "outputs": [
    {
     "data": {
      "text/html": [
       "<div>\n",
       "<style scoped>\n",
       "    .dataframe tbody tr th:only-of-type {\n",
       "        vertical-align: middle;\n",
       "    }\n",
       "\n",
       "    .dataframe tbody tr th {\n",
       "        vertical-align: top;\n",
       "    }\n",
       "\n",
       "    .dataframe thead th {\n",
       "        text-align: right;\n",
       "    }\n",
       "</style>\n",
       "<table border=\"1\" class=\"dataframe\">\n",
       "  <thead>\n",
       "    <tr style=\"text-align: right;\">\n",
       "      <th></th>\n",
       "      <th>Text</th>\n",
       "      <th>word_count</th>\n",
       "    </tr>\n",
       "  </thead>\n",
       "  <tbody>\n",
       "    <tr>\n",
       "      <th>0</th>\n",
       "      <td>Hello world</td>\n",
       "      <td>2</td>\n",
       "    </tr>\n",
       "    <tr>\n",
       "      <th>1</th>\n",
       "      <td>Pandas is great for data analysis</td>\n",
       "      <td>6</td>\n",
       "    </tr>\n",
       "    <tr>\n",
       "      <th>2</th>\n",
       "      <td>This is an example</td>\n",
       "      <td>4</td>\n",
       "    </tr>\n",
       "  </tbody>\n",
       "</table>\n",
       "</div>"
      ],
      "text/plain": [
       "                                Text  word_count\n",
       "0                        Hello world           2\n",
       "1  Pandas is great for data analysis           6\n",
       "2                 This is an example           4"
      ]
     },
     "execution_count": 37,
     "metadata": {},
     "output_type": "execute_result"
    }
   ],
   "source": [
    "data = {'Text': ['Hello world', \n",
    "                 'Pandas is great for data analysis', \n",
    "                 'This is an example']}\n",
    "df = pd.DataFrame(data)\n",
    "df['word_count'] = df['Text'].apply(lambda x: len(x.split()))\n",
    "df"
   ]
  },
  {
   "cell_type": "code",
   "execution_count": 38,
   "id": "0f5147fe-447a-449b-b077-1973663d5fa8",
   "metadata": {},
   "outputs": [],
   "source": [
    "# Answer number 5:-"
   ]
  },
  {
   "cell_type": "code",
   "execution_count": 42,
   "id": "e8ad54d5-c727-41e7-8dfe-8378616eb8d3",
   "metadata": {},
   "outputs": [
    {
     "data": {
      "text/plain": [
       "8"
      ]
     },
     "execution_count": 42,
     "metadata": {},
     "output_type": "execute_result"
    }
   ],
   "source": [
    "# DataFrame.size:- it returns the total number of elements as an integer.\n",
    "# DataFrame.shape:- it returns the number of rows and columns as in tuple.\n",
    "\n",
    "# Example:-\n",
    "data = {'A':[2,4,9,8],'B':[3,5,4,8]}\n",
    "df = pd.DataFrame(data)\n",
    "df.size"
   ]
  },
  {
   "cell_type": "code",
   "execution_count": 43,
   "id": "614c36c7-3ef7-4420-b012-d2f032ae3555",
   "metadata": {},
   "outputs": [
    {
     "data": {
      "text/plain": [
       "(4, 2)"
      ]
     },
     "execution_count": 43,
     "metadata": {},
     "output_type": "execute_result"
    }
   ],
   "source": [
    "df.shape"
   ]
  },
  {
   "cell_type": "code",
   "execution_count": 44,
   "id": "1476877e-d0a0-4870-b856-b9239453b315",
   "metadata": {},
   "outputs": [],
   "source": [
    "# Answer number 6:-"
   ]
  },
  {
   "cell_type": "code",
   "execution_count": null,
   "id": "61ebd2d2-043f-4a97-8bba-3c9f9e000746",
   "metadata": {},
   "outputs": [],
   "source": [
    "pd.read_excel()is to read an excel file."
   ]
  },
  {
   "cell_type": "code",
   "execution_count": 45,
   "id": "e85f936d-70e4-4731-b017-a39f4d74bf3a",
   "metadata": {},
   "outputs": [],
   "source": [
    "# Answer number 7:-"
   ]
  },
  {
   "cell_type": "code",
   "execution_count": 53,
   "id": "cf8dc75f-cc72-408a-af14-351cd73c5a55",
   "metadata": {},
   "outputs": [
    {
     "data": {
      "text/html": [
       "<div>\n",
       "<style scoped>\n",
       "    .dataframe tbody tr th:only-of-type {\n",
       "        vertical-align: middle;\n",
       "    }\n",
       "\n",
       "    .dataframe tbody tr th {\n",
       "        vertical-align: top;\n",
       "    }\n",
       "\n",
       "    .dataframe thead th {\n",
       "        text-align: right;\n",
       "    }\n",
       "</style>\n",
       "<table border=\"1\" class=\"dataframe\">\n",
       "  <thead>\n",
       "    <tr style=\"text-align: right;\">\n",
       "      <th></th>\n",
       "      <th>email</th>\n",
       "      <th>username</th>\n",
       "    </tr>\n",
       "  </thead>\n",
       "  <tbody>\n",
       "    <tr>\n",
       "      <th>0</th>\n",
       "      <td>manusachan@gmail.com</td>\n",
       "      <td>manusachan</td>\n",
       "    </tr>\n",
       "    <tr>\n",
       "      <th>1</th>\n",
       "      <td>kovidkrishnan@gmail.com</td>\n",
       "      <td>kovidkrishnan</td>\n",
       "    </tr>\n",
       "  </tbody>\n",
       "</table>\n",
       "</div>"
      ],
      "text/plain": [
       "                     email       username\n",
       "0     manusachan@gmail.com     manusachan\n",
       "1  kovidkrishnan@gmail.com  kovidkrishnan"
      ]
     },
     "execution_count": 53,
     "metadata": {},
     "output_type": "execute_result"
    }
   ],
   "source": [
    "data = {'email':['manusachan@gmail.com','kovidkrishnan@gmail.com']}\n",
    "df = pd.DataFrame(data)\n",
    "df['username'] = df['email'].apply(lambda x:x.split('@')[0])\n",
    "df"
   ]
  },
  {
   "cell_type": "code",
   "execution_count": 54,
   "id": "63261c05-e549-4542-b23a-ce76f5f7f6a5",
   "metadata": {},
   "outputs": [],
   "source": [
    "# Answer number 8:-"
   ]
  },
  {
   "cell_type": "code",
   "execution_count": 55,
   "id": "eeb47174-6fda-4d1a-b07c-0813b66dbc25",
   "metadata": {},
   "outputs": [
    {
     "data": {
      "text/html": [
       "<div>\n",
       "<style scoped>\n",
       "    .dataframe tbody tr th:only-of-type {\n",
       "        vertical-align: middle;\n",
       "    }\n",
       "\n",
       "    .dataframe tbody tr th {\n",
       "        vertical-align: top;\n",
       "    }\n",
       "\n",
       "    .dataframe thead th {\n",
       "        text-align: right;\n",
       "    }\n",
       "</style>\n",
       "<table border=\"1\" class=\"dataframe\">\n",
       "  <thead>\n",
       "    <tr style=\"text-align: right;\">\n",
       "      <th></th>\n",
       "      <th>A</th>\n",
       "      <th>B</th>\n",
       "      <th>C</th>\n",
       "    </tr>\n",
       "  </thead>\n",
       "  <tbody>\n",
       "    <tr>\n",
       "      <th>2</th>\n",
       "      <td>10</td>\n",
       "      <td>9</td>\n",
       "      <td>Z</td>\n",
       "    </tr>\n",
       "    <tr>\n",
       "      <th>4</th>\n",
       "      <td>6</td>\n",
       "      <td>7</td>\n",
       "      <td>V</td>\n",
       "    </tr>\n",
       "  </tbody>\n",
       "</table>\n",
       "</div>"
      ],
      "text/plain": [
       "    A  B  C\n",
       "2  10  9  Z\n",
       "4   6  7  V"
      ]
     },
     "execution_count": 55,
     "metadata": {},
     "output_type": "execute_result"
    }
   ],
   "source": [
    "data = {'A': [3, 7, 10, 2, 6],\n",
    "        'B': [8, 12, 9, 5, 7],\n",
    "        'C': ['X', 'Y', 'Z', 'W', 'V']}\n",
    "df = pd.DataFrame(data)\n",
    "filter_ = df[(df['A'] > 5) & (df['B'] < 10)]\n",
    "filter_"
   ]
  },
  {
   "cell_type": "code",
   "execution_count": 56,
   "id": "ebb78f8d-0d63-4c90-94f6-ae71562e3e2f",
   "metadata": {},
   "outputs": [],
   "source": [
    "# Answer number 9:-"
   ]
  },
  {
   "cell_type": "code",
   "execution_count": 61,
   "id": "5aa3342a-0736-4020-b339-a570c589310b",
   "metadata": {},
   "outputs": [
    {
     "name": "stdout",
     "output_type": "stream",
     "text": [
      "30.0\n",
      "30.0\n",
      "15.811388300841896\n"
     ]
    }
   ],
   "source": [
    "data = {'values': [10, 20, 30, 40, 50]}\n",
    "df = pd.DataFrame(data)\n",
    "mean = df['values'].mean()\n",
    "median = df['values'].median()\n",
    "sd = df['values'].std()\n",
    "print(mean)\n",
    "print(median)\n",
    "print(sd)"
   ]
  },
  {
   "cell_type": "code",
   "execution_count": 62,
   "id": "09c86c88-a3c9-4b03-8f0c-5644d48eb854",
   "metadata": {},
   "outputs": [],
   "source": [
    "# Answer number 10:-"
   ]
  },
  {
   "cell_type": "code",
   "execution_count": 66,
   "id": "f9b8f64d-3f63-43a6-9a82-fa4587c41ebb",
   "metadata": {},
   "outputs": [
    {
     "data": {
      "text/html": [
       "<div>\n",
       "<style scoped>\n",
       "    .dataframe tbody tr th:only-of-type {\n",
       "        vertical-align: middle;\n",
       "    }\n",
       "\n",
       "    .dataframe tbody tr th {\n",
       "        vertical-align: top;\n",
       "    }\n",
       "\n",
       "    .dataframe thead th {\n",
       "        text-align: right;\n",
       "    }\n",
       "</style>\n",
       "<table border=\"1\" class=\"dataframe\">\n",
       "  <thead>\n",
       "    <tr style=\"text-align: right;\">\n",
       "      <th></th>\n",
       "      <th>Date</th>\n",
       "      <th>Sales</th>\n",
       "      <th>MovingAverage</th>\n",
       "    </tr>\n",
       "  </thead>\n",
       "  <tbody>\n",
       "    <tr>\n",
       "      <th>0</th>\n",
       "      <td>2023-10-01</td>\n",
       "      <td>200</td>\n",
       "      <td>NaN</td>\n",
       "    </tr>\n",
       "    <tr>\n",
       "      <th>1</th>\n",
       "      <td>2023-10-02</td>\n",
       "      <td>220</td>\n",
       "      <td>NaN</td>\n",
       "    </tr>\n",
       "    <tr>\n",
       "      <th>2</th>\n",
       "      <td>2023-10-03</td>\n",
       "      <td>250</td>\n",
       "      <td>NaN</td>\n",
       "    </tr>\n",
       "    <tr>\n",
       "      <th>3</th>\n",
       "      <td>2023-10-04</td>\n",
       "      <td>230</td>\n",
       "      <td>NaN</td>\n",
       "    </tr>\n",
       "    <tr>\n",
       "      <th>4</th>\n",
       "      <td>2023-10-05</td>\n",
       "      <td>210</td>\n",
       "      <td>NaN</td>\n",
       "    </tr>\n",
       "    <tr>\n",
       "      <th>5</th>\n",
       "      <td>2023-10-06</td>\n",
       "      <td>300</td>\n",
       "      <td>NaN</td>\n",
       "    </tr>\n",
       "    <tr>\n",
       "      <th>6</th>\n",
       "      <td>2023-10-07</td>\n",
       "      <td>310</td>\n",
       "      <td>245.714286</td>\n",
       "    </tr>\n",
       "    <tr>\n",
       "      <th>7</th>\n",
       "      <td>2023-10-08</td>\n",
       "      <td>280</td>\n",
       "      <td>257.142857</td>\n",
       "    </tr>\n",
       "    <tr>\n",
       "      <th>8</th>\n",
       "      <td>2023-10-09</td>\n",
       "      <td>290</td>\n",
       "      <td>267.142857</td>\n",
       "    </tr>\n",
       "    <tr>\n",
       "      <th>9</th>\n",
       "      <td>2023-10-10</td>\n",
       "      <td>320</td>\n",
       "      <td>277.142857</td>\n",
       "    </tr>\n",
       "  </tbody>\n",
       "</table>\n",
       "</div>"
      ],
      "text/plain": [
       "        Date  Sales  MovingAverage\n",
       "0 2023-10-01    200            NaN\n",
       "1 2023-10-02    220            NaN\n",
       "2 2023-10-03    250            NaN\n",
       "3 2023-10-04    230            NaN\n",
       "4 2023-10-05    210            NaN\n",
       "5 2023-10-06    300            NaN\n",
       "6 2023-10-07    310     245.714286\n",
       "7 2023-10-08    280     257.142857\n",
       "8 2023-10-09    290     267.142857\n",
       "9 2023-10-10    320     277.142857"
      ]
     },
     "execution_count": 66,
     "metadata": {},
     "output_type": "execute_result"
    }
   ],
   "source": [
    "data = {'Date': pd.date_range(start='2023-10-01', periods=10),\n",
    "        'Sales': [200, 220, 250, 230, 210, 300, 310, 280, 290, 320]}\n",
    "df = pd.DataFrame(data)\n",
    "df['MovingAverage']=df['Sales'].rolling(window=7).mean()\n",
    "df"
   ]
  },
  {
   "cell_type": "code",
   "execution_count": 67,
   "id": "78dcec5f-6831-40aa-a0ad-f0a099048f59",
   "metadata": {},
   "outputs": [],
   "source": [
    "# Answer number 11:-"
   ]
  },
  {
   "cell_type": "code",
   "execution_count": 70,
   "id": "1bd2d525-c429-417f-a305-07542b2e1dbb",
   "metadata": {},
   "outputs": [
    {
     "data": {
      "text/html": [
       "<div>\n",
       "<style scoped>\n",
       "    .dataframe tbody tr th:only-of-type {\n",
       "        vertical-align: middle;\n",
       "    }\n",
       "\n",
       "    .dataframe tbody tr th {\n",
       "        vertical-align: top;\n",
       "    }\n",
       "\n",
       "    .dataframe thead th {\n",
       "        text-align: right;\n",
       "    }\n",
       "</style>\n",
       "<table border=\"1\" class=\"dataframe\">\n",
       "  <thead>\n",
       "    <tr style=\"text-align: right;\">\n",
       "      <th></th>\n",
       "      <th>Date</th>\n",
       "      <th>weekday</th>\n",
       "    </tr>\n",
       "  </thead>\n",
       "  <tbody>\n",
       "    <tr>\n",
       "      <th>0</th>\n",
       "      <td>2023-10-01</td>\n",
       "      <td>Sunday</td>\n",
       "    </tr>\n",
       "    <tr>\n",
       "      <th>1</th>\n",
       "      <td>2023-10-02</td>\n",
       "      <td>Monday</td>\n",
       "    </tr>\n",
       "    <tr>\n",
       "      <th>2</th>\n",
       "      <td>2023-10-03</td>\n",
       "      <td>Tuesday</td>\n",
       "    </tr>\n",
       "    <tr>\n",
       "      <th>3</th>\n",
       "      <td>2023-10-04</td>\n",
       "      <td>Wednesday</td>\n",
       "    </tr>\n",
       "  </tbody>\n",
       "</table>\n",
       "</div>"
      ],
      "text/plain": [
       "        Date    weekday\n",
       "0 2023-10-01     Sunday\n",
       "1 2023-10-02     Monday\n",
       "2 2023-10-03    Tuesday\n",
       "3 2023-10-04  Wednesday"
      ]
     },
     "execution_count": 70,
     "metadata": {},
     "output_type": "execute_result"
    }
   ],
   "source": [
    "data = {\n",
    "    'Date': ['2023-10-01', '2023-10-02', '2023-10-03', '2023-10-04']\n",
    "}\n",
    "df = pd.DataFrame(data)\n",
    "df['Date'] = pd.to_datetime(df['Date'])\n",
    "df['weekday']=df['Date'].dt.day_name()\n",
    "df"
   ]
  },
  {
   "cell_type": "code",
   "execution_count": 71,
   "id": "02257c8f-a1e5-4d07-8b10-acabcca89757",
   "metadata": {},
   "outputs": [],
   "source": [
    "# Answer number 12:-"
   ]
  },
  {
   "cell_type": "code",
   "execution_count": 72,
   "id": "f63861fe-a095-4276-9ea2-2033decd941a",
   "metadata": {},
   "outputs": [
    {
     "data": {
      "text/html": [
       "<div>\n",
       "<style scoped>\n",
       "    .dataframe tbody tr th:only-of-type {\n",
       "        vertical-align: middle;\n",
       "    }\n",
       "\n",
       "    .dataframe tbody tr th {\n",
       "        vertical-align: top;\n",
       "    }\n",
       "\n",
       "    .dataframe thead th {\n",
       "        text-align: right;\n",
       "    }\n",
       "</style>\n",
       "<table border=\"1\" class=\"dataframe\">\n",
       "  <thead>\n",
       "    <tr style=\"text-align: right;\">\n",
       "      <th></th>\n",
       "      <th>Date</th>\n",
       "    </tr>\n",
       "  </thead>\n",
       "  <tbody>\n",
       "    <tr>\n",
       "      <th>0</th>\n",
       "      <td>2023-01-15</td>\n",
       "    </tr>\n",
       "    <tr>\n",
       "      <th>1</th>\n",
       "      <td>2023-01-20</td>\n",
       "    </tr>\n",
       "    <tr>\n",
       "      <th>3</th>\n",
       "      <td>2023-01-30</td>\n",
       "    </tr>\n",
       "  </tbody>\n",
       "</table>\n",
       "</div>"
      ],
      "text/plain": [
       "         Date\n",
       "0  2023-01-15\n",
       "1  2023-01-20\n",
       "3  2023-01-30"
      ]
     },
     "execution_count": 72,
     "metadata": {},
     "output_type": "execute_result"
    }
   ],
   "source": [
    "data = {\n",
    "    'Date': ['2023-01-15', '2023-01-20', '2023-02-01', '2023-01-30', '2023-02-15']\n",
    "}\n",
    "df = pd.DataFrame(data)\n",
    "start_date = '2023-01-01'\n",
    "end_date = '2023-01-31'\n",
    "filter_ = df[(df['Date'] >= start_date) & (df['Date'] <= end_date)]\n",
    "filter_"
   ]
  },
  {
   "cell_type": "code",
   "execution_count": 73,
   "id": "2781f32a-8048-4ca1-b83b-188a604915ae",
   "metadata": {},
   "outputs": [],
   "source": [
    "# Answer number 13:-"
   ]
  },
  {
   "cell_type": "code",
   "execution_count": null,
   "id": "9099f92b-6b4d-44ae-8aed-0ec0121e6b71",
   "metadata": {},
   "outputs": [],
   "source": [
    "To use the basic functions of pandas,we need to import the pandas library itself like this-\n",
    "import pandas as pd"
   ]
  }
 ],
 "metadata": {
  "kernelspec": {
   "display_name": "Python 3 (ipykernel)",
   "language": "python",
   "name": "python3"
  },
  "language_info": {
   "codemirror_mode": {
    "name": "ipython",
    "version": 3
   },
   "file_extension": ".py",
   "mimetype": "text/x-python",
   "name": "python",
   "nbconvert_exporter": "python",
   "pygments_lexer": "ipython3",
   "version": "3.8.5"
  }
 },
 "nbformat": 4,
 "nbformat_minor": 5
}
