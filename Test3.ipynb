{
 "cells": [
  {
   "cell_type": "code",
   "execution_count": 4,
   "id": "b7ae5e43-483e-4a6d-9dfc-279591db98c1",
   "metadata": {},
   "outputs": [],
   "source": [
    "# Answer number 1:-"
   ]
  },
  {
   "cell_type": "code",
   "execution_count": 5,
   "id": "5f6ef170-7573-47df-a88c-8c527eb021df",
   "metadata": {},
   "outputs": [
    {
     "name": "stdout",
     "output_type": "stream",
     "text": [
      "car\n",
      "50\n",
      "40\n"
     ]
    }
   ],
   "source": [
    "class vehicle:\n",
    "    def __init__(self,name_of_vehicle, max_speed,average_of_vehicle):\n",
    "        self.name_of_vehicle = name_of_vehicle\n",
    "        self.max_speed = max_speed\n",
    "        self.average_of_vehicle = average_of_vehicle\n",
    "        \n",
    "my_vehicle = vehicle(\"car\",50,40)\n",
    "print(my_vehicle.name_of_vehicle)\n",
    "print(my_vehicle.max_speed)\n",
    "print(my_vehicle.average_of_vehicle)\n",
    "\n",
    "        "
   ]
  },
  {
   "cell_type": "code",
   "execution_count": 6,
   "id": "7fb314ba-a4c6-4bf6-9007-8ba01a7e5c31",
   "metadata": {},
   "outputs": [],
   "source": [
    "# Answer number 2:-"
   ]
  },
  {
   "cell_type": "code",
   "execution_count": 11,
   "id": "2bc9be54-ae8c-4f60-975d-6a4b414c9cab",
   "metadata": {},
   "outputs": [
    {
     "name": "stdout",
     "output_type": "stream",
     "text": [
      "The Toyota has a seating capacity of 5\n"
     ]
    }
   ],
   "source": [
    "# parent class\n",
    "class vehicle:\n",
    "    def __init__(self,name_of_vehicle, max_speed,average_of_vehicle):\n",
    "        self.name_of_vehicle = name_of_vehicle\n",
    "        self.max_speed = max_speed\n",
    "        self.average_of_vehicle = average_of_vehicle\n",
    "# child class        \n",
    "class car(vehicle):\n",
    "    def seating_capacity(self,capacity):\n",
    "        return f\"The {self.name_of_vehicle} has a seating capacity of {capacity}\"\n",
    "my_car = car(\"Toyota\",60,16)\n",
    "print(my_car.seating_capacity(5))\n",
    "    "
   ]
  },
  {
   "cell_type": "code",
   "execution_count": 12,
   "id": "5471cd9d-bd4d-4e5a-85db-071f8d9b12e1",
   "metadata": {},
   "outputs": [],
   "source": [
    "# Answer number 3:-"
   ]
  },
  {
   "cell_type": "code",
   "execution_count": 15,
   "id": "0e0315df-cc04-420e-8cdf-735b3f589f48",
   "metadata": {},
   "outputs": [
    {
     "name": "stdout",
     "output_type": "stream",
     "text": [
      "Toyota:This vehicle has a petrol engine and This vehicle has a sedan body\n"
     ]
    }
   ],
   "source": [
    "Multiple inheritance is a feature in object-oriented programming where a class can inherit attributes and methods from more than one parent class.\n",
    "\n",
    "# Parent class 1\n",
    "class engine:\n",
    "    def engine_type(self):\n",
    "        return \"This vehicle has a petrol engine\"\n",
    "# Parent class 2\n",
    "class body:\n",
    "    def body_type(self):\n",
    "        return \"This vehicle has a sedan body\"\n",
    "# Child class\n",
    "class car(engine,body):\n",
    "    def car_details(self,name):\n",
    "        return f\"{name}:{self.engine_type()} and {self.body_type()}\"\n",
    "my_car = car()\n",
    "print(my_car.car_details(\"Toyota\"))\n",
    "   "
   ]
  },
  {
   "cell_type": "code",
   "execution_count": 16,
   "id": "eb7e58b7-1aa1-4258-9d63-7bd9eca0710d",
   "metadata": {},
   "outputs": [],
   "source": [
    "# Answer number 4:-"
   ]
  },
  {
   "cell_type": "code",
   "execution_count": 19,
   "id": "b5364498-11b5-4a8c-8524-6098c5509189",
   "metadata": {},
   "outputs": [
    {
     "name": "stdout",
     "output_type": "stream",
     "text": [
      "Initial age 29\n",
      "updated age 26\n"
     ]
    }
   ],
   "source": [
    "Getter: Retrieves the value of a private attribute.\n",
    "Setter: Updates the value of a private attribute.\n",
    "\n",
    "class Student:\n",
    "    def __init__(self,name,age):\n",
    "        self._name = name\n",
    "        self._age = age\n",
    "        \n",
    "        # getter for 'age'\n",
    "    def get_age(self):\n",
    "        return self._age\n",
    "        # setter for 'age'\n",
    "    def set_age(self,age):\n",
    "        if age > 0:\n",
    "            self._age = age\n",
    "        else:\n",
    "            print(\"age must be positive\")\n",
    "student = Student(\"Kovid\",29)\n",
    "print(\"Initial age\", student.get_age())\n",
    "student.set_age(26) \n",
    "print(\"updated age\", student.get_age())\n",
    "            \n"
   ]
  },
  {
   "cell_type": "code",
   "execution_count": 20,
   "id": "398a7fb8-4139-4364-b865-0672002ba873",
   "metadata": {},
   "outputs": [],
   "source": [
    "# Answer number 5:-"
   ]
  },
  {
   "cell_type": "code",
   "execution_count": 21,
   "id": "2f290aed-496d-44ee-bee7-99fb95a3dc68",
   "metadata": {},
   "outputs": [
    {
     "name": "stdout",
     "output_type": "stream",
     "text": [
      "Dogs bark.\n",
      "Cats meow.\n"
     ]
    }
   ],
   "source": [
    "Method overriding allows subclasses to change the behavior of methods inherited from the parent class.\n",
    "\n",
    "# Parent class\n",
    "class Animal:\n",
    "    def sound(self):\n",
    "        return \"Animals make sounds\"\n",
    "\n",
    "# Child class overriding the 'sound' method\n",
    "class Dog(Animal):\n",
    "    def sound(self):\n",
    "        return \"Dogs bark\"\n",
    "\n",
    "# Another child class overriding the 'sound' method\n",
    "class Cat(Animal):\n",
    "    def sound(self):\n",
    "        return \"Cats meow\"\n",
    "dog = Dog()\n",
    "cat = Cat()\n",
    "\n",
    "print(dog.sound()) \n",
    "print(cat.sound())  "
   ]
  },
  {
   "cell_type": "code",
   "execution_count": null,
   "id": "b44c5ee8-1371-44f2-8d74-a98c59668fbb",
   "metadata": {},
   "outputs": [],
   "source": []
  }
 ],
 "metadata": {
  "kernelspec": {
   "display_name": "Python 3 (ipykernel)",
   "language": "python",
   "name": "python3"
  },
  "language_info": {
   "codemirror_mode": {
    "name": "ipython",
    "version": 3
   },
   "file_extension": ".py",
   "mimetype": "text/x-python",
   "name": "python",
   "nbconvert_exporter": "python",
   "pygments_lexer": "ipython3",
   "version": "3.8.5"
  }
 },
 "nbformat": 4,
 "nbformat_minor": 5
}
