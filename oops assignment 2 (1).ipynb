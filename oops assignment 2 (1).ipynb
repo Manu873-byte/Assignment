{
 "cells": [
  {
   "cell_type": "code",
   "execution_count": 1,
   "id": "f1dd9191-f75c-48e7-9c0b-2d6177749b65",
   "metadata": {},
   "outputs": [],
   "source": [
    "# Answer number 1:-"
   ]
  },
  {
   "cell_type": "code",
   "execution_count": 7,
   "id": "a58addd5-fbbf-4c4d-bc55-0038f90ded6a",
   "metadata": {},
   "outputs": [
    {
     "name": "stdout",
     "output_type": "stream",
     "text": [
      "Car is starting with a key.\n",
      "Bike is starting with a kick.\n"
     ]
    }
   ],
   "source": [
    "Abstraction:- Abstraction is a key concept in OOP that focuses on hiding the internal details and \n",
    "showing only the essential features of an object to the outside world. \n",
    "    \n",
    "# Example:  \n",
    "from abc import ABC, abstractmethod\n",
    "\n",
    "# Create an abstract class\n",
    "class Vehicle(ABC):\n",
    "    \n",
    "    @abstractmethod\n",
    "    def start(self):\n",
    "        pass  # Abstract method with no implementation\n",
    "\n",
    "# Implement the abstract class in a concrete class\n",
    "class Car(Vehicle):\n",
    "    def start(self):\n",
    "        print(\"Car is starting with a key.\")\n",
    "\n",
    "class Bike(Vehicle):\n",
    "    def start(self):\n",
    "        print(\"Bike is starting with a kick.\")\n",
    "\n",
    "# Use the concrete classes\n",
    "my_car = Car()\n",
    "my_car.start()  \n",
    "my_bike = Bike()\n",
    "my_bike.start()  \n"
   ]
  },
  {
   "cell_type": "code",
   "execution_count": 8,
   "id": "5a8157d0-3ddd-4787-b003-ea2405c8dabc",
   "metadata": {},
   "outputs": [],
   "source": [
    "# Answer number 2:-"
   ]
  },
  {
   "cell_type": "code",
   "execution_count": 9,
   "id": "ed49fd43-75ae-4dbc-bb34-1cca5ca381a7",
   "metadata": {},
   "outputs": [
    {
     "name": "stdout",
     "output_type": "stream",
     "text": [
      "Bark\n",
      "Meow\n"
     ]
    }
   ],
   "source": [
    "Abstraction simplifies the complexity of systems by hiding unnecessary details, while \n",
    "encapsulation protects the integrity of data and controls access to it.\n",
    "    \n",
    "# Example of Abstraction:\n",
    "from abc import ABC, abstractmethod\n",
    "class Animal(ABC):\n",
    "    @abstractmethod\n",
    "    def sound(self):\n",
    "        pass\n",
    "\n",
    "class Dog(Animal):\n",
    "    def sound(self):\n",
    "        return \"Bark\"\n",
    "\n",
    "class Cat(Animal):\n",
    "    def sound(self):\n",
    "        return \"Meow\"\n",
    "dog = Dog()\n",
    "cat = Cat()\n",
    "print(dog.sound())  \n",
    "print(cat.sound())    "
   ]
  },
  {
   "cell_type": "code",
   "execution_count": 10,
   "id": "85cd6322-56dd-4d38-8d39-076e2c6800ae",
   "metadata": {},
   "outputs": [
    {
     "name": "stdout",
     "output_type": "stream",
     "text": [
      "2\n"
     ]
    }
   ],
   "source": [
    "# Example of Encapsulation:\n",
    "class Counter:\n",
    "    def __init__(self):\n",
    "        self.__count = 0  \n",
    "\n",
    "    def increment(self):\n",
    "        self.__count += 1\n",
    "\n",
    "    def get_count(self):\n",
    "        return self.__count \n",
    "counter = Counter()\n",
    "counter.increment()\n",
    "counter.increment()\n",
    "print(counter.get_count())"
   ]
  },
  {
   "cell_type": "code",
   "execution_count": 11,
   "id": "6106c620-4fd0-48fc-b659-9ea007f99f4b",
   "metadata": {},
   "outputs": [],
   "source": [
    "# Answer number 3:-"
   ]
  },
  {
   "cell_type": "code",
   "execution_count": null,
   "id": "911eb404-1808-4d6f-8686-50ef0e820797",
   "metadata": {},
   "outputs": [],
   "source": [
    "abc module:- The abc module in Python stands for Abstract Base Classes. \n",
    "It helps enforce a design where certain methods must be implemented in subclasses."
   ]
  },
  {
   "cell_type": "code",
   "execution_count": 12,
   "id": "6a517813-e4d5-48ae-bdd5-29de2eb42ccc",
   "metadata": {},
   "outputs": [],
   "source": [
    "# Answer number 4:-"
   ]
  },
  {
   "cell_type": "code",
   "execution_count": null,
   "id": "0826a222-0cda-4713-a89d-f1f22d2ac5a5",
   "metadata": {},
   "outputs": [],
   "source": [
    "1.We can define abstract base classes using the abc module to enforce a certain interface. \n",
    "2.Encapsulation is closely related to data abstraction. By using private attributes , we can restrict direct access to the internal data of a class.\n",
    "3.Although Python does not have built-in support for interfaces like some other languages, we can create them using abstract base classes.\n",
    "4.Organizing code into modules and packages can also help achieve data abstraction."
   ]
  },
  {
   "cell_type": "code",
   "execution_count": 13,
   "id": "f103d798-e76a-4fb6-af0d-ba25325e17a0",
   "metadata": {},
   "outputs": [],
   "source": [
    "# Answer number 5:-"
   ]
  },
  {
   "cell_type": "code",
   "execution_count": null,
   "id": "13ceae9c-281e-47aa-8061-dfb2134612dd",
   "metadata": {},
   "outputs": [],
   "source": [
    "No,we cannot create an instance of an abstract class in Python. An abstract class is designed \n",
    "to serve as a blueprint for other classes and cannot be instantiated directly.\n",
    "Abstract classes are meant to define a common interface and provide some level of implementation for subclasses. "
   ]
  }
 ],
 "metadata": {
  "kernelspec": {
   "display_name": "Python 3 (ipykernel)",
   "language": "python",
   "name": "python3"
  },
  "language_info": {
   "codemirror_mode": {
    "name": "ipython",
    "version": 3
   },
   "file_extension": ".py",
   "mimetype": "text/x-python",
   "name": "python",
   "nbconvert_exporter": "python",
   "pygments_lexer": "ipython3",
   "version": "3.8.5"
  }
 },
 "nbformat": 4,
 "nbformat_minor": 5
}
